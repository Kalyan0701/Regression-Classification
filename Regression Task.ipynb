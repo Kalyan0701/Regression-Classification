{
 "cells": [
  {
   "cell_type": "markdown",
   "metadata": {
    "id": "33hg5y3jMcHe"
   },
   "source": [
    "# Linear Regression In python"
   ]
  },
  {
   "cell_type": "markdown",
   "metadata": {
    "id": "204-X3OmMbuA"
   },
   "source": [
    "The term regression refers to relationship between variables. And these relationship helps to predict the outcome depending on the other results or outcomes. As said, regression searches relation between the variables. So, In this task, I am using data-sets of 'Life Expectancy Data'.\n",
    "Also, In this task, We will first understand the data sets as it is necessary to understand what type of data sets are there. Then, We will perform various analyses using visualization techniques. We will perform data cleaning and check the accuracy of the predicted value."
   ]
  },
  {
   "cell_type": "markdown",
   "metadata": {
    "id": "1C8OqwcuMnVC"
   },
   "source": [
    "# Dataset Description"
   ]
  },
  {
   "cell_type": "markdown",
   "metadata": {
    "id": "VN1m2KhoMp6O"
   },
   "source": [
    "In this project, I have used 'Life Expectancy Data' dataset downloaded from kaggle. These dataset are collected from WHO and United Nations website.\n",
    "The dataset can be found at this url:\n",
    "https://www.kaggle.com/kumarajarshi/life-expectancy-who\n"
   ]
  },
  {
   "cell_type": "markdown",
   "metadata": {
    "id": "qgTv54DIKRXo",
    "papermill": {
     "duration": 0.025739,
     "end_time": "2021-03-26T16:11:22.283123",
     "exception": false,
     "start_time": "2021-03-26T16:11:22.257384",
     "status": "completed"
    },
    "tags": []
   },
   "source": [
    "# 1. Importing necessary packages for the Analysis:"
   ]
  },
  {
   "cell_type": "code",
   "execution_count": null,
   "metadata": {
    "execution": {
     "iopub.execute_input": "2021-03-26T16:11:22.335685Z",
     "iopub.status.busy": "2021-03-26T16:11:22.335038Z",
     "iopub.status.idle": "2021-03-26T16:11:23.294171Z",
     "shell.execute_reply": "2021-03-26T16:11:23.294691Z"
    },
    "id": "zOnnoiNuKRXr",
    "papermill": {
     "duration": 0.986618,
     "end_time": "2021-03-26T16:11:23.295048",
     "exception": false,
     "start_time": "2021-03-26T16:11:22.308430",
     "status": "completed"
    },
    "tags": []
   },
   "outputs": [],
   "source": [
    "import pandas as pd\n",
    "import numpy as np\n",
    "import seaborn as sns\n",
    "import matplotlib.pyplot as plt\n",
    "import datetime\n",
    "import math\n",
    "from sklearn import linear_model\n",
    "%matplotlib inline"
   ]
  },
  {
   "cell_type": "markdown",
   "metadata": {
    "id": "qd9sfgxsMwtO"
   },
   "source": [
    "#2.  Importing Warnings\n"
   ]
  },
  {
   "cell_type": "code",
   "execution_count": null,
   "metadata": {
    "id": "OBPha8uNM4QG"
   },
   "outputs": [],
   "source": [
    "import warnings\n",
    "warnings.filterwarnings('ignore')"
   ]
  },
  {
   "cell_type": "markdown",
   "metadata": {
    "id": "vxjt9BT_KRXt",
    "papermill": {
     "duration": 0.023827,
     "end_time": "2021-03-26T16:11:23.344036",
     "exception": false,
     "start_time": "2021-03-26T16:11:23.320209",
     "status": "completed"
    },
    "tags": []
   },
   "source": [
    "#3. Loading the Dataset:"
   ]
  },
  {
   "cell_type": "code",
   "execution_count": null,
   "metadata": {
    "colab": {
     "base_uri": "https://localhost:8080/",
     "height": 73,
     "resources": {
      "http://localhost:8080/nbextensions/google.colab/files.js": {
       "data": "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",
       "headers": [
        [
         "content-type",
         "application/javascript"
        ]
       ],
       "ok": true,
       "status": 200,
       "status_text": ""
      }
     }
    },
    "execution": {
     "iopub.execute_input": "2021-03-26T16:11:23.395905Z",
     "iopub.status.busy": "2021-03-26T16:11:23.395277Z",
     "iopub.status.idle": "2021-03-26T16:11:23.435576Z",
     "shell.execute_reply": "2021-03-26T16:11:23.434893Z"
    },
    "id": "ZVSt2tTFKRXt",
    "outputId": "f4377d38-4cfb-46cb-aa50-7115b73f9fcb",
    "papermill": {
     "duration": 0.067462,
     "end_time": "2021-03-26T16:11:23.435732",
     "exception": false,
     "start_time": "2021-03-26T16:11:23.368270",
     "status": "completed"
    },
    "tags": []
   },
   "outputs": [
    {
     "data": {
      "text/html": [
       "\n",
       "     <input type=\"file\" id=\"files-171f3594-bc17-4c85-9247-31240245beb1\" name=\"files[]\" multiple disabled\n",
       "        style=\"border:none\" />\n",
       "     <output id=\"result-171f3594-bc17-4c85-9247-31240245beb1\">\n",
       "      Upload widget is only available when the cell has been executed in the\n",
       "      current browser session. Please rerun this cell to enable.\n",
       "      </output>\n",
       "      <script src=\"/nbextensions/google.colab/files.js\"></script> "
      ],
      "text/plain": [
       "<IPython.core.display.HTML object>"
      ]
     },
     "metadata": {},
     "output_type": "display_data"
    },
    {
     "name": "stdout",
     "output_type": "stream",
     "text": [
      "Saving Life Expectancy Data.csv to Life Expectancy Data.csv\n"
     ]
    }
   ],
   "source": [
    "from google.colab import files\n",
    "uploaded = files.upload()"
   ]
  },
  {
   "cell_type": "code",
   "execution_count": null,
   "metadata": {
    "id": "IM8Ce65QK67U"
   },
   "outputs": [],
   "source": [
    "import io\n",
    "data = pd.read_csv(io.BytesIO(uploaded['Life Expectancy Data.csv']))"
   ]
  },
  {
   "cell_type": "code",
   "execution_count": null,
   "metadata": {
    "colab": {
     "base_uri": "https://localhost:8080/",
     "height": 285
    },
    "execution": {
     "iopub.execute_input": "2021-03-26T16:11:23.554417Z",
     "iopub.status.busy": "2021-03-26T16:11:23.553693Z",
     "iopub.status.idle": "2021-03-26T16:11:23.582166Z",
     "shell.execute_reply": "2021-03-26T16:11:23.582613Z"
    },
    "id": "kH0ClzlOKRXu",
    "outputId": "6fdae3cf-ea88-41d3-8d0f-8056b6b5a39c",
    "papermill": {
     "duration": 0.073336,
     "end_time": "2021-03-26T16:11:23.582805",
     "exception": false,
     "start_time": "2021-03-26T16:11:23.509469",
     "status": "completed"
    },
    "tags": []
   },
   "outputs": [
    {
     "data": {
      "text/html": [
       "\n",
       "  <div id=\"df-f17e153c-7f25-46e0-b297-dabe68fd5f6f\">\n",
       "    <div class=\"colab-df-container\">\n",
       "      <div>\n",
       "<style scoped>\n",
       "    .dataframe tbody tr th:only-of-type {\n",
       "        vertical-align: middle;\n",
       "    }\n",
       "\n",
       "    .dataframe tbody tr th {\n",
       "        vertical-align: top;\n",
       "    }\n",
       "\n",
       "    .dataframe thead th {\n",
       "        text-align: right;\n",
       "    }\n",
       "</style>\n",
       "<table border=\"1\" class=\"dataframe\">\n",
       "  <thead>\n",
       "    <tr style=\"text-align: right;\">\n",
       "      <th></th>\n",
       "      <th>Country</th>\n",
       "      <th>Year</th>\n",
       "      <th>Status</th>\n",
       "      <th>Life expectancy</th>\n",
       "      <th>Adult Mortality</th>\n",
       "      <th>infant deaths</th>\n",
       "      <th>Alcohol</th>\n",
       "      <th>percentage expenditure</th>\n",
       "      <th>Hepatitis B</th>\n",
       "      <th>Measles</th>\n",
       "      <th>BMI</th>\n",
       "      <th>under-five deaths</th>\n",
       "      <th>Polio</th>\n",
       "      <th>Total expenditure</th>\n",
       "      <th>Diphtheria</th>\n",
       "      <th>HIV/AIDS</th>\n",
       "      <th>GDP</th>\n",
       "      <th>Population</th>\n",
       "      <th>thinness  1-19 years</th>\n",
       "      <th>thinness 5-9 years</th>\n",
       "      <th>Income composition of resources</th>\n",
       "      <th>Schooling</th>\n",
       "    </tr>\n",
       "  </thead>\n",
       "  <tbody>\n",
       "    <tr>\n",
       "      <th>0</th>\n",
       "      <td>Afghanistan</td>\n",
       "      <td>2015</td>\n",
       "      <td>Developing</td>\n",
       "      <td>65.0</td>\n",
       "      <td>263.0</td>\n",
       "      <td>62</td>\n",
       "      <td>0.01</td>\n",
       "      <td>71.279624</td>\n",
       "      <td>65.0</td>\n",
       "      <td>1154</td>\n",
       "      <td>19.1</td>\n",
       "      <td>83</td>\n",
       "      <td>6.0</td>\n",
       "      <td>8.16</td>\n",
       "      <td>65.0</td>\n",
       "      <td>0.1</td>\n",
       "      <td>584.259210</td>\n",
       "      <td>33736494.0</td>\n",
       "      <td>17.2</td>\n",
       "      <td>17.3</td>\n",
       "      <td>0.479</td>\n",
       "      <td>10.1</td>\n",
       "    </tr>\n",
       "    <tr>\n",
       "      <th>1</th>\n",
       "      <td>Afghanistan</td>\n",
       "      <td>2014</td>\n",
       "      <td>Developing</td>\n",
       "      <td>59.9</td>\n",
       "      <td>271.0</td>\n",
       "      <td>64</td>\n",
       "      <td>0.01</td>\n",
       "      <td>73.523582</td>\n",
       "      <td>62.0</td>\n",
       "      <td>492</td>\n",
       "      <td>18.6</td>\n",
       "      <td>86</td>\n",
       "      <td>58.0</td>\n",
       "      <td>8.18</td>\n",
       "      <td>62.0</td>\n",
       "      <td>0.1</td>\n",
       "      <td>612.696514</td>\n",
       "      <td>327582.0</td>\n",
       "      <td>17.5</td>\n",
       "      <td>17.5</td>\n",
       "      <td>0.476</td>\n",
       "      <td>10.0</td>\n",
       "    </tr>\n",
       "    <tr>\n",
       "      <th>2</th>\n",
       "      <td>Afghanistan</td>\n",
       "      <td>2013</td>\n",
       "      <td>Developing</td>\n",
       "      <td>59.9</td>\n",
       "      <td>268.0</td>\n",
       "      <td>66</td>\n",
       "      <td>0.01</td>\n",
       "      <td>73.219243</td>\n",
       "      <td>64.0</td>\n",
       "      <td>430</td>\n",
       "      <td>18.1</td>\n",
       "      <td>89</td>\n",
       "      <td>62.0</td>\n",
       "      <td>8.13</td>\n",
       "      <td>64.0</td>\n",
       "      <td>0.1</td>\n",
       "      <td>631.744976</td>\n",
       "      <td>31731688.0</td>\n",
       "      <td>17.7</td>\n",
       "      <td>17.7</td>\n",
       "      <td>0.470</td>\n",
       "      <td>9.9</td>\n",
       "    </tr>\n",
       "    <tr>\n",
       "      <th>3</th>\n",
       "      <td>Afghanistan</td>\n",
       "      <td>2012</td>\n",
       "      <td>Developing</td>\n",
       "      <td>59.5</td>\n",
       "      <td>272.0</td>\n",
       "      <td>69</td>\n",
       "      <td>0.01</td>\n",
       "      <td>78.184215</td>\n",
       "      <td>67.0</td>\n",
       "      <td>2787</td>\n",
       "      <td>17.6</td>\n",
       "      <td>93</td>\n",
       "      <td>67.0</td>\n",
       "      <td>8.52</td>\n",
       "      <td>67.0</td>\n",
       "      <td>0.1</td>\n",
       "      <td>669.959000</td>\n",
       "      <td>3696958.0</td>\n",
       "      <td>17.9</td>\n",
       "      <td>18.0</td>\n",
       "      <td>0.463</td>\n",
       "      <td>9.8</td>\n",
       "    </tr>\n",
       "    <tr>\n",
       "      <th>4</th>\n",
       "      <td>Afghanistan</td>\n",
       "      <td>2011</td>\n",
       "      <td>Developing</td>\n",
       "      <td>59.2</td>\n",
       "      <td>275.0</td>\n",
       "      <td>71</td>\n",
       "      <td>0.01</td>\n",
       "      <td>7.097109</td>\n",
       "      <td>68.0</td>\n",
       "      <td>3013</td>\n",
       "      <td>17.2</td>\n",
       "      <td>97</td>\n",
       "      <td>68.0</td>\n",
       "      <td>7.87</td>\n",
       "      <td>68.0</td>\n",
       "      <td>0.1</td>\n",
       "      <td>63.537231</td>\n",
       "      <td>2978599.0</td>\n",
       "      <td>18.2</td>\n",
       "      <td>18.2</td>\n",
       "      <td>0.454</td>\n",
       "      <td>9.5</td>\n",
       "    </tr>\n",
       "  </tbody>\n",
       "</table>\n",
       "</div>\n",
       "      <button class=\"colab-df-convert\" onclick=\"convertToInteractive('df-f17e153c-7f25-46e0-b297-dabe68fd5f6f')\"\n",
       "              title=\"Convert this dataframe to an interactive table.\"\n",
       "              style=\"display:none;\">\n",
       "        \n",
       "  <svg xmlns=\"http://www.w3.org/2000/svg\" height=\"24px\"viewBox=\"0 0 24 24\"\n",
       "       width=\"24px\">\n",
       "    <path d=\"M0 0h24v24H0V0z\" fill=\"none\"/>\n",
       "    <path d=\"M18.56 5.44l.94 2.06.94-2.06 2.06-.94-2.06-.94-.94-2.06-.94 2.06-2.06.94zm-11 1L8.5 8.5l.94-2.06 2.06-.94-2.06-.94L8.5 2.5l-.94 2.06-2.06.94zm10 10l.94 2.06.94-2.06 2.06-.94-2.06-.94-.94-2.06-.94 2.06-2.06.94z\"/><path d=\"M17.41 7.96l-1.37-1.37c-.4-.4-.92-.59-1.43-.59-.52 0-1.04.2-1.43.59L10.3 9.45l-7.72 7.72c-.78.78-.78 2.05 0 2.83L4 21.41c.39.39.9.59 1.41.59.51 0 1.02-.2 1.41-.59l7.78-7.78 2.81-2.81c.8-.78.8-2.07 0-2.86zM5.41 20L4 18.59l7.72-7.72 1.47 1.35L5.41 20z\"/>\n",
       "  </svg>\n",
       "      </button>\n",
       "      \n",
       "  <style>\n",
       "    .colab-df-container {\n",
       "      display:flex;\n",
       "      flex-wrap:wrap;\n",
       "      gap: 12px;\n",
       "    }\n",
       "\n",
       "    .colab-df-convert {\n",
       "      background-color: #E8F0FE;\n",
       "      border: none;\n",
       "      border-radius: 50%;\n",
       "      cursor: pointer;\n",
       "      display: none;\n",
       "      fill: #1967D2;\n",
       "      height: 32px;\n",
       "      padding: 0 0 0 0;\n",
       "      width: 32px;\n",
       "    }\n",
       "\n",
       "    .colab-df-convert:hover {\n",
       "      background-color: #E2EBFA;\n",
       "      box-shadow: 0px 1px 2px rgba(60, 64, 67, 0.3), 0px 1px 3px 1px rgba(60, 64, 67, 0.15);\n",
       "      fill: #174EA6;\n",
       "    }\n",
       "\n",
       "    [theme=dark] .colab-df-convert {\n",
       "      background-color: #3B4455;\n",
       "      fill: #D2E3FC;\n",
       "    }\n",
       "\n",
       "    [theme=dark] .colab-df-convert:hover {\n",
       "      background-color: #434B5C;\n",
       "      box-shadow: 0px 1px 3px 1px rgba(0, 0, 0, 0.15);\n",
       "      filter: drop-shadow(0px 1px 2px rgba(0, 0, 0, 0.3));\n",
       "      fill: #FFFFFF;\n",
       "    }\n",
       "  </style>\n",
       "\n",
       "      <script>\n",
       "        const buttonEl =\n",
       "          document.querySelector('#df-f17e153c-7f25-46e0-b297-dabe68fd5f6f button.colab-df-convert');\n",
       "        buttonEl.style.display =\n",
       "          google.colab.kernel.accessAllowed ? 'block' : 'none';\n",
       "\n",
       "        async function convertToInteractive(key) {\n",
       "          const element = document.querySelector('#df-f17e153c-7f25-46e0-b297-dabe68fd5f6f');\n",
       "          const dataTable =\n",
       "            await google.colab.kernel.invokeFunction('convertToInteractive',\n",
       "                                                     [key], {});\n",
       "          if (!dataTable) return;\n",
       "\n",
       "          const docLinkHtml = 'Like what you see? Visit the ' +\n",
       "            '<a target=\"_blank\" href=https://colab.research.google.com/notebooks/data_table.ipynb>data table notebook</a>'\n",
       "            + ' to learn more about interactive tables.';\n",
       "          element.innerHTML = '';\n",
       "          dataTable['output_type'] = 'display_data';\n",
       "          await google.colab.output.renderOutput(dataTable, element);\n",
       "          const docLink = document.createElement('div');\n",
       "          docLink.innerHTML = docLinkHtml;\n",
       "          element.appendChild(docLink);\n",
       "        }\n",
       "      </script>\n",
       "    </div>\n",
       "  </div>\n",
       "  "
      ],
      "text/plain": [
       "       Country  Year  ... Income composition of resources  Schooling\n",
       "0  Afghanistan  2015  ...                           0.479       10.1\n",
       "1  Afghanistan  2014  ...                           0.476       10.0\n",
       "2  Afghanistan  2013  ...                           0.470        9.9\n",
       "3  Afghanistan  2012  ...                           0.463        9.8\n",
       "4  Afghanistan  2011  ...                           0.454        9.5\n",
       "\n",
       "[5 rows x 22 columns]"
      ]
     },
     "execution_count": 7,
     "metadata": {},
     "output_type": "execute_result"
    }
   ],
   "source": [
    "#Getting a Brief Look at the Data:\n",
    "data.head()"
   ]
  },
  {
   "cell_type": "markdown",
   "metadata": {
    "id": "mcLnoh8h_Tj1"
   },
   "source": [
    "Looks like huge dataset with over 20 features. Its almost not possible to get insight from this dataset by just loading its head. Lets read the info and check for its total number of observations and examine it whether it has null values or not."
   ]
  },
  {
   "cell_type": "code",
   "execution_count": null,
   "metadata": {
    "colab": {
     "base_uri": "https://localhost:8080/",
     "height": 285
    },
    "execution": {
     "iopub.execute_input": "2021-03-26T16:11:23.658416Z",
     "iopub.status.busy": "2021-03-26T16:11:23.647958Z",
     "iopub.status.idle": "2021-03-26T16:11:23.662291Z",
     "shell.execute_reply": "2021-03-26T16:11:23.661744Z"
    },
    "id": "Vb4ei_sxKRXv",
    "outputId": "bda549d7-9d9e-4288-d34f-8b5a70ea8978",
    "papermill": {
     "duration": 0.054312,
     "end_time": "2021-03-26T16:11:23.662442",
     "exception": false,
     "start_time": "2021-03-26T16:11:23.608130",
     "status": "completed"
    },
    "scrolled": true,
    "tags": []
   },
   "outputs": [
    {
     "data": {
      "text/html": [
       "\n",
       "  <div id=\"df-79ec1a41-5ec0-404f-b7f3-82873100d96e\">\n",
       "    <div class=\"colab-df-container\">\n",
       "      <div>\n",
       "<style scoped>\n",
       "    .dataframe tbody tr th:only-of-type {\n",
       "        vertical-align: middle;\n",
       "    }\n",
       "\n",
       "    .dataframe tbody tr th {\n",
       "        vertical-align: top;\n",
       "    }\n",
       "\n",
       "    .dataframe thead th {\n",
       "        text-align: right;\n",
       "    }\n",
       "</style>\n",
       "<table border=\"1\" class=\"dataframe\">\n",
       "  <thead>\n",
       "    <tr style=\"text-align: right;\">\n",
       "      <th></th>\n",
       "      <th>Country</th>\n",
       "      <th>Year</th>\n",
       "      <th>Status</th>\n",
       "      <th>Life expectancy</th>\n",
       "      <th>Adult Mortality</th>\n",
       "      <th>infant deaths</th>\n",
       "      <th>Alcohol</th>\n",
       "      <th>percentage expenditure</th>\n",
       "      <th>Hepatitis B</th>\n",
       "      <th>Measles</th>\n",
       "      <th>BMI</th>\n",
       "      <th>under-five deaths</th>\n",
       "      <th>Polio</th>\n",
       "      <th>Total expenditure</th>\n",
       "      <th>Diphtheria</th>\n",
       "      <th>HIV/AIDS</th>\n",
       "      <th>GDP</th>\n",
       "      <th>Population</th>\n",
       "      <th>thinness  1-19 years</th>\n",
       "      <th>thinness 5-9 years</th>\n",
       "      <th>Income composition of resources</th>\n",
       "      <th>Schooling</th>\n",
       "    </tr>\n",
       "  </thead>\n",
       "  <tbody>\n",
       "    <tr>\n",
       "      <th>2933</th>\n",
       "      <td>Zimbabwe</td>\n",
       "      <td>2004</td>\n",
       "      <td>Developing</td>\n",
       "      <td>44.3</td>\n",
       "      <td>723.0</td>\n",
       "      <td>27</td>\n",
       "      <td>4.36</td>\n",
       "      <td>0.0</td>\n",
       "      <td>68.0</td>\n",
       "      <td>31</td>\n",
       "      <td>27.1</td>\n",
       "      <td>42</td>\n",
       "      <td>67.0</td>\n",
       "      <td>7.13</td>\n",
       "      <td>65.0</td>\n",
       "      <td>33.6</td>\n",
       "      <td>454.366654</td>\n",
       "      <td>12777511.0</td>\n",
       "      <td>9.4</td>\n",
       "      <td>9.4</td>\n",
       "      <td>0.407</td>\n",
       "      <td>9.2</td>\n",
       "    </tr>\n",
       "    <tr>\n",
       "      <th>2934</th>\n",
       "      <td>Zimbabwe</td>\n",
       "      <td>2003</td>\n",
       "      <td>Developing</td>\n",
       "      <td>44.5</td>\n",
       "      <td>715.0</td>\n",
       "      <td>26</td>\n",
       "      <td>4.06</td>\n",
       "      <td>0.0</td>\n",
       "      <td>7.0</td>\n",
       "      <td>998</td>\n",
       "      <td>26.7</td>\n",
       "      <td>41</td>\n",
       "      <td>7.0</td>\n",
       "      <td>6.52</td>\n",
       "      <td>68.0</td>\n",
       "      <td>36.7</td>\n",
       "      <td>453.351155</td>\n",
       "      <td>12633897.0</td>\n",
       "      <td>9.8</td>\n",
       "      <td>9.9</td>\n",
       "      <td>0.418</td>\n",
       "      <td>9.5</td>\n",
       "    </tr>\n",
       "    <tr>\n",
       "      <th>2935</th>\n",
       "      <td>Zimbabwe</td>\n",
       "      <td>2002</td>\n",
       "      <td>Developing</td>\n",
       "      <td>44.8</td>\n",
       "      <td>73.0</td>\n",
       "      <td>25</td>\n",
       "      <td>4.43</td>\n",
       "      <td>0.0</td>\n",
       "      <td>73.0</td>\n",
       "      <td>304</td>\n",
       "      <td>26.3</td>\n",
       "      <td>40</td>\n",
       "      <td>73.0</td>\n",
       "      <td>6.53</td>\n",
       "      <td>71.0</td>\n",
       "      <td>39.8</td>\n",
       "      <td>57.348340</td>\n",
       "      <td>125525.0</td>\n",
       "      <td>1.2</td>\n",
       "      <td>1.3</td>\n",
       "      <td>0.427</td>\n",
       "      <td>10.0</td>\n",
       "    </tr>\n",
       "    <tr>\n",
       "      <th>2936</th>\n",
       "      <td>Zimbabwe</td>\n",
       "      <td>2001</td>\n",
       "      <td>Developing</td>\n",
       "      <td>45.3</td>\n",
       "      <td>686.0</td>\n",
       "      <td>25</td>\n",
       "      <td>1.72</td>\n",
       "      <td>0.0</td>\n",
       "      <td>76.0</td>\n",
       "      <td>529</td>\n",
       "      <td>25.9</td>\n",
       "      <td>39</td>\n",
       "      <td>76.0</td>\n",
       "      <td>6.16</td>\n",
       "      <td>75.0</td>\n",
       "      <td>42.1</td>\n",
       "      <td>548.587312</td>\n",
       "      <td>12366165.0</td>\n",
       "      <td>1.6</td>\n",
       "      <td>1.7</td>\n",
       "      <td>0.427</td>\n",
       "      <td>9.8</td>\n",
       "    </tr>\n",
       "    <tr>\n",
       "      <th>2937</th>\n",
       "      <td>Zimbabwe</td>\n",
       "      <td>2000</td>\n",
       "      <td>Developing</td>\n",
       "      <td>46.0</td>\n",
       "      <td>665.0</td>\n",
       "      <td>24</td>\n",
       "      <td>1.68</td>\n",
       "      <td>0.0</td>\n",
       "      <td>79.0</td>\n",
       "      <td>1483</td>\n",
       "      <td>25.5</td>\n",
       "      <td>39</td>\n",
       "      <td>78.0</td>\n",
       "      <td>7.10</td>\n",
       "      <td>78.0</td>\n",
       "      <td>43.5</td>\n",
       "      <td>547.358878</td>\n",
       "      <td>12222251.0</td>\n",
       "      <td>11.0</td>\n",
       "      <td>11.2</td>\n",
       "      <td>0.434</td>\n",
       "      <td>9.8</td>\n",
       "    </tr>\n",
       "  </tbody>\n",
       "</table>\n",
       "</div>\n",
       "      <button class=\"colab-df-convert\" onclick=\"convertToInteractive('df-79ec1a41-5ec0-404f-b7f3-82873100d96e')\"\n",
       "              title=\"Convert this dataframe to an interactive table.\"\n",
       "              style=\"display:none;\">\n",
       "        \n",
       "  <svg xmlns=\"http://www.w3.org/2000/svg\" height=\"24px\"viewBox=\"0 0 24 24\"\n",
       "       width=\"24px\">\n",
       "    <path d=\"M0 0h24v24H0V0z\" fill=\"none\"/>\n",
       "    <path d=\"M18.56 5.44l.94 2.06.94-2.06 2.06-.94-2.06-.94-.94-2.06-.94 2.06-2.06.94zm-11 1L8.5 8.5l.94-2.06 2.06-.94-2.06-.94L8.5 2.5l-.94 2.06-2.06.94zm10 10l.94 2.06.94-2.06 2.06-.94-2.06-.94-.94-2.06-.94 2.06-2.06.94z\"/><path d=\"M17.41 7.96l-1.37-1.37c-.4-.4-.92-.59-1.43-.59-.52 0-1.04.2-1.43.59L10.3 9.45l-7.72 7.72c-.78.78-.78 2.05 0 2.83L4 21.41c.39.39.9.59 1.41.59.51 0 1.02-.2 1.41-.59l7.78-7.78 2.81-2.81c.8-.78.8-2.07 0-2.86zM5.41 20L4 18.59l7.72-7.72 1.47 1.35L5.41 20z\"/>\n",
       "  </svg>\n",
       "      </button>\n",
       "      \n",
       "  <style>\n",
       "    .colab-df-container {\n",
       "      display:flex;\n",
       "      flex-wrap:wrap;\n",
       "      gap: 12px;\n",
       "    }\n",
       "\n",
       "    .colab-df-convert {\n",
       "      background-color: #E8F0FE;\n",
       "      border: none;\n",
       "      border-radius: 50%;\n",
       "      cursor: pointer;\n",
       "      display: none;\n",
       "      fill: #1967D2;\n",
       "      height: 32px;\n",
       "      padding: 0 0 0 0;\n",
       "      width: 32px;\n",
       "    }\n",
       "\n",
       "    .colab-df-convert:hover {\n",
       "      background-color: #E2EBFA;\n",
       "      box-shadow: 0px 1px 2px rgba(60, 64, 67, 0.3), 0px 1px 3px 1px rgba(60, 64, 67, 0.15);\n",
       "      fill: #174EA6;\n",
       "    }\n",
       "\n",
       "    [theme=dark] .colab-df-convert {\n",
       "      background-color: #3B4455;\n",
       "      fill: #D2E3FC;\n",
       "    }\n",
       "\n",
       "    [theme=dark] .colab-df-convert:hover {\n",
       "      background-color: #434B5C;\n",
       "      box-shadow: 0px 1px 3px 1px rgba(0, 0, 0, 0.15);\n",
       "      filter: drop-shadow(0px 1px 2px rgba(0, 0, 0, 0.3));\n",
       "      fill: #FFFFFF;\n",
       "    }\n",
       "  </style>\n",
       "\n",
       "      <script>\n",
       "        const buttonEl =\n",
       "          document.querySelector('#df-79ec1a41-5ec0-404f-b7f3-82873100d96e button.colab-df-convert');\n",
       "        buttonEl.style.display =\n",
       "          google.colab.kernel.accessAllowed ? 'block' : 'none';\n",
       "\n",
       "        async function convertToInteractive(key) {\n",
       "          const element = document.querySelector('#df-79ec1a41-5ec0-404f-b7f3-82873100d96e');\n",
       "          const dataTable =\n",
       "            await google.colab.kernel.invokeFunction('convertToInteractive',\n",
       "                                                     [key], {});\n",
       "          if (!dataTable) return;\n",
       "\n",
       "          const docLinkHtml = 'Like what you see? Visit the ' +\n",
       "            '<a target=\"_blank\" href=https://colab.research.google.com/notebooks/data_table.ipynb>data table notebook</a>'\n",
       "            + ' to learn more about interactive tables.';\n",
       "          element.innerHTML = '';\n",
       "          dataTable['output_type'] = 'display_data';\n",
       "          await google.colab.output.renderOutput(dataTable, element);\n",
       "          const docLink = document.createElement('div');\n",
       "          docLink.innerHTML = docLinkHtml;\n",
       "          element.appendChild(docLink);\n",
       "        }\n",
       "      </script>\n",
       "    </div>\n",
       "  </div>\n",
       "  "
      ],
      "text/plain": [
       "       Country  Year  ... Income composition of resources  Schooling\n",
       "2933  Zimbabwe  2004  ...                           0.407        9.2\n",
       "2934  Zimbabwe  2003  ...                           0.418        9.5\n",
       "2935  Zimbabwe  2002  ...                           0.427       10.0\n",
       "2936  Zimbabwe  2001  ...                           0.427        9.8\n",
       "2937  Zimbabwe  2000  ...                           0.434        9.8\n",
       "\n",
       "[5 rows x 22 columns]"
      ]
     },
     "execution_count": 8,
     "metadata": {},
     "output_type": "execute_result"
    }
   ],
   "source": [
    "data.tail()"
   ]
  },
  {
   "cell_type": "markdown",
   "metadata": {
    "id": "pi_JQhRBz_Sp"
   },
   "source": [
    "#4. Data Description"
   ]
  },
  {
   "cell_type": "markdown",
   "metadata": {
    "id": "v3Lcm5rPzfIk"
   },
   "source": [
    "![Capture.PNG](data:image/png;base64,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)"
   ]
  },
  {
   "cell_type": "markdown",
   "metadata": {
    "id": "f-AMvy7nbKVk"
   },
   "source": [
    "![Capture1.PNG](data:image/png;base64,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)"
   ]
  },
  {
   "cell_type": "markdown",
   "metadata": {
    "id": "k1-PRC1J12Zy"
   },
   "source": [
    "![Capture2.PNG](data:image/png;base64,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)"
   ]
  },
  {
   "cell_type": "code",
   "execution_count": null,
   "metadata": {
    "colab": {
     "base_uri": "https://localhost:8080/"
    },
    "execution": {
     "iopub.execute_input": "2021-03-26T16:11:23.779931Z",
     "iopub.status.busy": "2021-03-26T16:11:23.779275Z",
     "iopub.status.idle": "2021-03-26T16:11:23.796894Z",
     "shell.execute_reply": "2021-03-26T16:11:23.796214Z"
    },
    "id": "gmETNLO4KRXw",
    "outputId": "86464580-6167-41f5-8a2f-fd0701404136",
    "papermill": {
     "duration": 0.050435,
     "end_time": "2021-03-26T16:11:23.797050",
     "exception": false,
     "start_time": "2021-03-26T16:11:23.746615",
     "status": "completed"
    },
    "scrolled": false,
    "tags": []
   },
   "outputs": [
    {
     "name": "stdout",
     "output_type": "stream",
     "text": [
      "<class 'pandas.core.frame.DataFrame'>\n",
      "RangeIndex: 2938 entries, 0 to 2937\n",
      "Data columns (total 22 columns):\n",
      " #   Column                           Non-Null Count  Dtype  \n",
      "---  ------                           --------------  -----  \n",
      " 0   Country                          2938 non-null   object \n",
      " 1   Year                             2938 non-null   int64  \n",
      " 2   Status                           2938 non-null   object \n",
      " 3   Life expectancy                  2928 non-null   float64\n",
      " 4   Adult Mortality                  2928 non-null   float64\n",
      " 5   infant deaths                    2938 non-null   int64  \n",
      " 6   Alcohol                          2744 non-null   float64\n",
      " 7   percentage expenditure           2938 non-null   float64\n",
      " 8   Hepatitis B                      2385 non-null   float64\n",
      " 9   Measles                          2938 non-null   int64  \n",
      " 10   BMI                             2904 non-null   float64\n",
      " 11  under-five deaths                2938 non-null   int64  \n",
      " 12  Polio                            2919 non-null   float64\n",
      " 13  Total expenditure                2712 non-null   float64\n",
      " 14  Diphtheria                       2919 non-null   float64\n",
      " 15   HIV/AIDS                        2938 non-null   float64\n",
      " 16  GDP                              2490 non-null   float64\n",
      " 17  Population                       2286 non-null   float64\n",
      " 18   thinness  1-19 years            2904 non-null   float64\n",
      " 19   thinness 5-9 years              2904 non-null   float64\n",
      " 20  Income composition of resources  2771 non-null   float64\n",
      " 21  Schooling                        2775 non-null   float64\n",
      "dtypes: float64(16), int64(4), object(2)\n",
      "memory usage: 505.1+ KB\n"
     ]
    }
   ],
   "source": [
    "data.info()"
   ]
  },
  {
   "cell_type": "markdown",
   "metadata": {
    "id": "wmxBsdVF_cmg"
   },
   "source": [
    "It has 22 columns and nearly 3000 entries and with the inequality in no. of observations from each feature it is clear that it has got some null values. Lets try to fix them up and try to solve the problem."
   ]
  },
  {
   "cell_type": "markdown",
   "metadata": {
    "id": "iGLDgSY8_-Fa"
   },
   "source": [
    "It has 20 Quantitative and 2 Qualitative features."
   ]
  },
  {
   "cell_type": "code",
   "execution_count": null,
   "metadata": {
    "colab": {
     "base_uri": "https://localhost:8080/"
    },
    "id": "M9Shjx1fY90Q",
    "outputId": "69c30f5d-3fb0-4d4f-e31a-1a95483f72b3"
   },
   "outputs": [
    {
     "data": {
      "text/plain": [
       "Country                              0\n",
       "Year                                 0\n",
       "Status                               0\n",
       "Life expectancy                     10\n",
       "Adult Mortality                     10\n",
       "infant deaths                        0\n",
       "Alcohol                            194\n",
       "percentage expenditure               0\n",
       "Hepatitis B                        553\n",
       "Measles                              0\n",
       " BMI                                34\n",
       "under-five deaths                    0\n",
       "Polio                               19\n",
       "Total expenditure                  226\n",
       "Diphtheria                          19\n",
       " HIV/AIDS                            0\n",
       "GDP                                448\n",
       "Population                         652\n",
       " thinness  1-19 years               34\n",
       " thinness 5-9 years                 34\n",
       "Income composition of resources    167\n",
       "Schooling                          163\n",
       "dtype: int64"
      ]
     },
     "execution_count": 10,
     "metadata": {},
     "output_type": "execute_result"
    }
   ],
   "source": [
    "#Checking missing values in the datset\n",
    "data.isnull().sum()"
   ]
  },
  {
   "cell_type": "markdown",
   "metadata": {
    "id": "R6ZV5i2vW6GC"
   },
   "source": [
    "#5. Data Cleaning"
   ]
  },
  {
   "cell_type": "markdown",
   "metadata": {
    "id": "kDluy8RrCrXa"
   },
   "source": [
    "The act of discovering and correcting damaged or inaccurate data from a table or database by identifying missing, improper, or irrelevant elements of the data and then replacing, modifying, or removing the poor data is known as data cleaning."
   ]
  },
  {
   "cell_type": "code",
   "execution_count": null,
   "metadata": {
    "id": "eOPip3rJQ-bz"
   },
   "outputs": [],
   "source": [
    "data.columns=['Country', 'Year', 'Status', 'Life_expectancy', 'Adult_Mortality',\n",
    "       'infant_deaths', 'Alcohol', 'percentage_expenditure', 'Hepatitis_B',\n",
    "       'Measles', 'BMI', 'under_five_deaths', 'Polio', 'Total_expenditure',\n",
    "       'Diphtheria', 'HIV/AIDS', 'GDP', 'Population',\n",
    "       'thinness', 'thinness_5-9_years',\n",
    "       'Income_composition_of_resources', 'Schooling']"
   ]
  },
  {
   "cell_type": "code",
   "execution_count": null,
   "metadata": {
    "execution": {
     "iopub.execute_input": "2021-03-26T16:12:01.366535Z",
     "iopub.status.busy": "2021-03-26T16:12:01.356485Z",
     "iopub.status.idle": "2021-03-26T16:12:01.371193Z",
     "shell.execute_reply": "2021-03-26T16:12:01.370696Z"
    },
    "id": "gDbSgEy5KRX8",
    "papermill": {
     "duration": 0.111903,
     "end_time": "2021-03-26T16:12:01.371345",
     "exception": false,
     "start_time": "2021-03-26T16:12:01.259442",
     "status": "completed"
    },
    "tags": []
   },
   "outputs": [],
   "source": [
    "#____________________________________________PREPROCESS(Clean) DATA____________________________________________\n",
    "\n",
    "#REMOVE all NaN\n",
    "data.dropna(subset = [\"Country\",\"Year\",\"Status\",\"Life_expectancy\",\"Adult_Mortality\"\n",
    "                       ,\"infant_deaths\",\"Alcohol\",\"percentage_expenditure\",\"Hepatitis_B\",\"Measles\"\n",
    "                       ,\"BMI\",\"under_five_deaths\",\"Polio\",\"Total_expenditure\",\"Diphtheria\"\n",
    "                       ,\"HIV/AIDS\",\"GDP\",\"Population\",\"thinness\",\"thinness_5-9_years\"\n",
    "                       ,\"Income_composition_of_resources\",\"Schooling\"], inplace=True)"
   ]
  },
  {
   "cell_type": "code",
   "execution_count": null,
   "metadata": {
    "id": "8BtQLHwlGuPg"
   },
   "outputs": [],
   "source": [
    "#Change Stats from Developing/Developed to 0/1\n",
    "a = 0\n",
    "tempStatus = []\n",
    "for i in data.Status:\n",
    "    if i == \"Developing\":\n",
    "        tempStatus.append(0) \n",
    "        a = a+1\n",
    "    elif i == \"Developed\":\n",
    "        tempStatus.append(1)\n",
    "        a = a+1\n",
    "\n",
    "data.Status = tempStatus"
   ]
  },
  {
   "cell_type": "code",
   "execution_count": null,
   "metadata": {
    "colab": {
     "base_uri": "https://localhost:8080/",
     "height": 540
    },
    "id": "OJmua6BlQMnK",
    "outputId": "97fed1d7-a074-47b2-f6e0-a8f4ef98ff5a"
   },
   "outputs": [
    {
     "name": "stdout",
     "output_type": "stream",
     "text": [
      "Dataset after clearning:\n",
      "\n"
     ]
    },
    {
     "data": {
      "text/html": [
       "\n",
       "  <div id=\"df-feaf5de7-02c9-49f7-b3d7-036d8e4f2cdc\">\n",
       "    <div class=\"colab-df-container\">\n",
       "      <div>\n",
       "<style scoped>\n",
       "    .dataframe tbody tr th:only-of-type {\n",
       "        vertical-align: middle;\n",
       "    }\n",
       "\n",
       "    .dataframe tbody tr th {\n",
       "        vertical-align: top;\n",
       "    }\n",
       "\n",
       "    .dataframe thead th {\n",
       "        text-align: right;\n",
       "    }\n",
       "</style>\n",
       "<table border=\"1\" class=\"dataframe\">\n",
       "  <thead>\n",
       "    <tr style=\"text-align: right;\">\n",
       "      <th></th>\n",
       "      <th>Country</th>\n",
       "      <th>Year</th>\n",
       "      <th>Status</th>\n",
       "      <th>Life_expectancy</th>\n",
       "      <th>Adult_Mortality</th>\n",
       "      <th>infant_deaths</th>\n",
       "      <th>Alcohol</th>\n",
       "      <th>percentage_expenditure</th>\n",
       "      <th>Hepatitis_B</th>\n",
       "      <th>Measles</th>\n",
       "      <th>BMI</th>\n",
       "      <th>under_five_deaths</th>\n",
       "      <th>Polio</th>\n",
       "      <th>Total_expenditure</th>\n",
       "      <th>Diphtheria</th>\n",
       "      <th>HIV/AIDS</th>\n",
       "      <th>GDP</th>\n",
       "      <th>Population</th>\n",
       "      <th>thinness</th>\n",
       "      <th>thinness_5-9_years</th>\n",
       "      <th>Income_composition_of_resources</th>\n",
       "      <th>Schooling</th>\n",
       "    </tr>\n",
       "  </thead>\n",
       "  <tbody>\n",
       "    <tr>\n",
       "      <th>0</th>\n",
       "      <td>Afghanistan</td>\n",
       "      <td>2015</td>\n",
       "      <td>0</td>\n",
       "      <td>65.0</td>\n",
       "      <td>263.0</td>\n",
       "      <td>62</td>\n",
       "      <td>0.01</td>\n",
       "      <td>71.279624</td>\n",
       "      <td>65.0</td>\n",
       "      <td>1154</td>\n",
       "      <td>19.1</td>\n",
       "      <td>83</td>\n",
       "      <td>6.0</td>\n",
       "      <td>8.16</td>\n",
       "      <td>65.0</td>\n",
       "      <td>0.1</td>\n",
       "      <td>584.259210</td>\n",
       "      <td>33736494.0</td>\n",
       "      <td>17.2</td>\n",
       "      <td>17.3</td>\n",
       "      <td>0.479</td>\n",
       "      <td>10.1</td>\n",
       "    </tr>\n",
       "    <tr>\n",
       "      <th>1</th>\n",
       "      <td>Afghanistan</td>\n",
       "      <td>2014</td>\n",
       "      <td>0</td>\n",
       "      <td>59.9</td>\n",
       "      <td>271.0</td>\n",
       "      <td>64</td>\n",
       "      <td>0.01</td>\n",
       "      <td>73.523582</td>\n",
       "      <td>62.0</td>\n",
       "      <td>492</td>\n",
       "      <td>18.6</td>\n",
       "      <td>86</td>\n",
       "      <td>58.0</td>\n",
       "      <td>8.18</td>\n",
       "      <td>62.0</td>\n",
       "      <td>0.1</td>\n",
       "      <td>612.696514</td>\n",
       "      <td>327582.0</td>\n",
       "      <td>17.5</td>\n",
       "      <td>17.5</td>\n",
       "      <td>0.476</td>\n",
       "      <td>10.0</td>\n",
       "    </tr>\n",
       "    <tr>\n",
       "      <th>2</th>\n",
       "      <td>Afghanistan</td>\n",
       "      <td>2013</td>\n",
       "      <td>0</td>\n",
       "      <td>59.9</td>\n",
       "      <td>268.0</td>\n",
       "      <td>66</td>\n",
       "      <td>0.01</td>\n",
       "      <td>73.219243</td>\n",
       "      <td>64.0</td>\n",
       "      <td>430</td>\n",
       "      <td>18.1</td>\n",
       "      <td>89</td>\n",
       "      <td>62.0</td>\n",
       "      <td>8.13</td>\n",
       "      <td>64.0</td>\n",
       "      <td>0.1</td>\n",
       "      <td>631.744976</td>\n",
       "      <td>31731688.0</td>\n",
       "      <td>17.7</td>\n",
       "      <td>17.7</td>\n",
       "      <td>0.470</td>\n",
       "      <td>9.9</td>\n",
       "    </tr>\n",
       "    <tr>\n",
       "      <th>3</th>\n",
       "      <td>Afghanistan</td>\n",
       "      <td>2012</td>\n",
       "      <td>0</td>\n",
       "      <td>59.5</td>\n",
       "      <td>272.0</td>\n",
       "      <td>69</td>\n",
       "      <td>0.01</td>\n",
       "      <td>78.184215</td>\n",
       "      <td>67.0</td>\n",
       "      <td>2787</td>\n",
       "      <td>17.6</td>\n",
       "      <td>93</td>\n",
       "      <td>67.0</td>\n",
       "      <td>8.52</td>\n",
       "      <td>67.0</td>\n",
       "      <td>0.1</td>\n",
       "      <td>669.959000</td>\n",
       "      <td>3696958.0</td>\n",
       "      <td>17.9</td>\n",
       "      <td>18.0</td>\n",
       "      <td>0.463</td>\n",
       "      <td>9.8</td>\n",
       "    </tr>\n",
       "    <tr>\n",
       "      <th>4</th>\n",
       "      <td>Afghanistan</td>\n",
       "      <td>2011</td>\n",
       "      <td>0</td>\n",
       "      <td>59.2</td>\n",
       "      <td>275.0</td>\n",
       "      <td>71</td>\n",
       "      <td>0.01</td>\n",
       "      <td>7.097109</td>\n",
       "      <td>68.0</td>\n",
       "      <td>3013</td>\n",
       "      <td>17.2</td>\n",
       "      <td>97</td>\n",
       "      <td>68.0</td>\n",
       "      <td>7.87</td>\n",
       "      <td>68.0</td>\n",
       "      <td>0.1</td>\n",
       "      <td>63.537231</td>\n",
       "      <td>2978599.0</td>\n",
       "      <td>18.2</td>\n",
       "      <td>18.2</td>\n",
       "      <td>0.454</td>\n",
       "      <td>9.5</td>\n",
       "    </tr>\n",
       "    <tr>\n",
       "      <th>...</th>\n",
       "      <td>...</td>\n",
       "      <td>...</td>\n",
       "      <td>...</td>\n",
       "      <td>...</td>\n",
       "      <td>...</td>\n",
       "      <td>...</td>\n",
       "      <td>...</td>\n",
       "      <td>...</td>\n",
       "      <td>...</td>\n",
       "      <td>...</td>\n",
       "      <td>...</td>\n",
       "      <td>...</td>\n",
       "      <td>...</td>\n",
       "      <td>...</td>\n",
       "      <td>...</td>\n",
       "      <td>...</td>\n",
       "      <td>...</td>\n",
       "      <td>...</td>\n",
       "      <td>...</td>\n",
       "      <td>...</td>\n",
       "      <td>...</td>\n",
       "      <td>...</td>\n",
       "    </tr>\n",
       "    <tr>\n",
       "      <th>2933</th>\n",
       "      <td>Zimbabwe</td>\n",
       "      <td>2004</td>\n",
       "      <td>0</td>\n",
       "      <td>44.3</td>\n",
       "      <td>723.0</td>\n",
       "      <td>27</td>\n",
       "      <td>4.36</td>\n",
       "      <td>0.000000</td>\n",
       "      <td>68.0</td>\n",
       "      <td>31</td>\n",
       "      <td>27.1</td>\n",
       "      <td>42</td>\n",
       "      <td>67.0</td>\n",
       "      <td>7.13</td>\n",
       "      <td>65.0</td>\n",
       "      <td>33.6</td>\n",
       "      <td>454.366654</td>\n",
       "      <td>12777511.0</td>\n",
       "      <td>9.4</td>\n",
       "      <td>9.4</td>\n",
       "      <td>0.407</td>\n",
       "      <td>9.2</td>\n",
       "    </tr>\n",
       "    <tr>\n",
       "      <th>2934</th>\n",
       "      <td>Zimbabwe</td>\n",
       "      <td>2003</td>\n",
       "      <td>0</td>\n",
       "      <td>44.5</td>\n",
       "      <td>715.0</td>\n",
       "      <td>26</td>\n",
       "      <td>4.06</td>\n",
       "      <td>0.000000</td>\n",
       "      <td>7.0</td>\n",
       "      <td>998</td>\n",
       "      <td>26.7</td>\n",
       "      <td>41</td>\n",
       "      <td>7.0</td>\n",
       "      <td>6.52</td>\n",
       "      <td>68.0</td>\n",
       "      <td>36.7</td>\n",
       "      <td>453.351155</td>\n",
       "      <td>12633897.0</td>\n",
       "      <td>9.8</td>\n",
       "      <td>9.9</td>\n",
       "      <td>0.418</td>\n",
       "      <td>9.5</td>\n",
       "    </tr>\n",
       "    <tr>\n",
       "      <th>2935</th>\n",
       "      <td>Zimbabwe</td>\n",
       "      <td>2002</td>\n",
       "      <td>0</td>\n",
       "      <td>44.8</td>\n",
       "      <td>73.0</td>\n",
       "      <td>25</td>\n",
       "      <td>4.43</td>\n",
       "      <td>0.000000</td>\n",
       "      <td>73.0</td>\n",
       "      <td>304</td>\n",
       "      <td>26.3</td>\n",
       "      <td>40</td>\n",
       "      <td>73.0</td>\n",
       "      <td>6.53</td>\n",
       "      <td>71.0</td>\n",
       "      <td>39.8</td>\n",
       "      <td>57.348340</td>\n",
       "      <td>125525.0</td>\n",
       "      <td>1.2</td>\n",
       "      <td>1.3</td>\n",
       "      <td>0.427</td>\n",
       "      <td>10.0</td>\n",
       "    </tr>\n",
       "    <tr>\n",
       "      <th>2936</th>\n",
       "      <td>Zimbabwe</td>\n",
       "      <td>2001</td>\n",
       "      <td>0</td>\n",
       "      <td>45.3</td>\n",
       "      <td>686.0</td>\n",
       "      <td>25</td>\n",
       "      <td>1.72</td>\n",
       "      <td>0.000000</td>\n",
       "      <td>76.0</td>\n",
       "      <td>529</td>\n",
       "      <td>25.9</td>\n",
       "      <td>39</td>\n",
       "      <td>76.0</td>\n",
       "      <td>6.16</td>\n",
       "      <td>75.0</td>\n",
       "      <td>42.1</td>\n",
       "      <td>548.587312</td>\n",
       "      <td>12366165.0</td>\n",
       "      <td>1.6</td>\n",
       "      <td>1.7</td>\n",
       "      <td>0.427</td>\n",
       "      <td>9.8</td>\n",
       "    </tr>\n",
       "    <tr>\n",
       "      <th>2937</th>\n",
       "      <td>Zimbabwe</td>\n",
       "      <td>2000</td>\n",
       "      <td>0</td>\n",
       "      <td>46.0</td>\n",
       "      <td>665.0</td>\n",
       "      <td>24</td>\n",
       "      <td>1.68</td>\n",
       "      <td>0.000000</td>\n",
       "      <td>79.0</td>\n",
       "      <td>1483</td>\n",
       "      <td>25.5</td>\n",
       "      <td>39</td>\n",
       "      <td>78.0</td>\n",
       "      <td>7.10</td>\n",
       "      <td>78.0</td>\n",
       "      <td>43.5</td>\n",
       "      <td>547.358878</td>\n",
       "      <td>12222251.0</td>\n",
       "      <td>11.0</td>\n",
       "      <td>11.2</td>\n",
       "      <td>0.434</td>\n",
       "      <td>9.8</td>\n",
       "    </tr>\n",
       "  </tbody>\n",
       "</table>\n",
       "<p>1649 rows × 22 columns</p>\n",
       "</div>\n",
       "      <button class=\"colab-df-convert\" onclick=\"convertToInteractive('df-feaf5de7-02c9-49f7-b3d7-036d8e4f2cdc')\"\n",
       "              title=\"Convert this dataframe to an interactive table.\"\n",
       "              style=\"display:none;\">\n",
       "        \n",
       "  <svg xmlns=\"http://www.w3.org/2000/svg\" height=\"24px\"viewBox=\"0 0 24 24\"\n",
       "       width=\"24px\">\n",
       "    <path d=\"M0 0h24v24H0V0z\" fill=\"none\"/>\n",
       "    <path d=\"M18.56 5.44l.94 2.06.94-2.06 2.06-.94-2.06-.94-.94-2.06-.94 2.06-2.06.94zm-11 1L8.5 8.5l.94-2.06 2.06-.94-2.06-.94L8.5 2.5l-.94 2.06-2.06.94zm10 10l.94 2.06.94-2.06 2.06-.94-2.06-.94-.94-2.06-.94 2.06-2.06.94z\"/><path d=\"M17.41 7.96l-1.37-1.37c-.4-.4-.92-.59-1.43-.59-.52 0-1.04.2-1.43.59L10.3 9.45l-7.72 7.72c-.78.78-.78 2.05 0 2.83L4 21.41c.39.39.9.59 1.41.59.51 0 1.02-.2 1.41-.59l7.78-7.78 2.81-2.81c.8-.78.8-2.07 0-2.86zM5.41 20L4 18.59l7.72-7.72 1.47 1.35L5.41 20z\"/>\n",
       "  </svg>\n",
       "      </button>\n",
       "      \n",
       "  <style>\n",
       "    .colab-df-container {\n",
       "      display:flex;\n",
       "      flex-wrap:wrap;\n",
       "      gap: 12px;\n",
       "    }\n",
       "\n",
       "    .colab-df-convert {\n",
       "      background-color: #E8F0FE;\n",
       "      border: none;\n",
       "      border-radius: 50%;\n",
       "      cursor: pointer;\n",
       "      display: none;\n",
       "      fill: #1967D2;\n",
       "      height: 32px;\n",
       "      padding: 0 0 0 0;\n",
       "      width: 32px;\n",
       "    }\n",
       "\n",
       "    .colab-df-convert:hover {\n",
       "      background-color: #E2EBFA;\n",
       "      box-shadow: 0px 1px 2px rgba(60, 64, 67, 0.3), 0px 1px 3px 1px rgba(60, 64, 67, 0.15);\n",
       "      fill: #174EA6;\n",
       "    }\n",
       "\n",
       "    [theme=dark] .colab-df-convert {\n",
       "      background-color: #3B4455;\n",
       "      fill: #D2E3FC;\n",
       "    }\n",
       "\n",
       "    [theme=dark] .colab-df-convert:hover {\n",
       "      background-color: #434B5C;\n",
       "      box-shadow: 0px 1px 3px 1px rgba(0, 0, 0, 0.15);\n",
       "      filter: drop-shadow(0px 1px 2px rgba(0, 0, 0, 0.3));\n",
       "      fill: #FFFFFF;\n",
       "    }\n",
       "  </style>\n",
       "\n",
       "      <script>\n",
       "        const buttonEl =\n",
       "          document.querySelector('#df-feaf5de7-02c9-49f7-b3d7-036d8e4f2cdc button.colab-df-convert');\n",
       "        buttonEl.style.display =\n",
       "          google.colab.kernel.accessAllowed ? 'block' : 'none';\n",
       "\n",
       "        async function convertToInteractive(key) {\n",
       "          const element = document.querySelector('#df-feaf5de7-02c9-49f7-b3d7-036d8e4f2cdc');\n",
       "          const dataTable =\n",
       "            await google.colab.kernel.invokeFunction('convertToInteractive',\n",
       "                                                     [key], {});\n",
       "          if (!dataTable) return;\n",
       "\n",
       "          const docLinkHtml = 'Like what you see? Visit the ' +\n",
       "            '<a target=\"_blank\" href=https://colab.research.google.com/notebooks/data_table.ipynb>data table notebook</a>'\n",
       "            + ' to learn more about interactive tables.';\n",
       "          element.innerHTML = '';\n",
       "          dataTable['output_type'] = 'display_data';\n",
       "          await google.colab.output.renderOutput(dataTable, element);\n",
       "          const docLink = document.createElement('div');\n",
       "          docLink.innerHTML = docLinkHtml;\n",
       "          element.appendChild(docLink);\n",
       "        }\n",
       "      </script>\n",
       "    </div>\n",
       "  </div>\n",
       "  "
      ],
      "text/plain": [
       "          Country  Year  ...  Income_composition_of_resources  Schooling\n",
       "0     Afghanistan  2015  ...                            0.479       10.1\n",
       "1     Afghanistan  2014  ...                            0.476       10.0\n",
       "2     Afghanistan  2013  ...                            0.470        9.9\n",
       "3     Afghanistan  2012  ...                            0.463        9.8\n",
       "4     Afghanistan  2011  ...                            0.454        9.5\n",
       "...           ...   ...  ...                              ...        ...\n",
       "2933     Zimbabwe  2004  ...                            0.407        9.2\n",
       "2934     Zimbabwe  2003  ...                            0.418        9.5\n",
       "2935     Zimbabwe  2002  ...                            0.427       10.0\n",
       "2936     Zimbabwe  2001  ...                            0.427        9.8\n",
       "2937     Zimbabwe  2000  ...                            0.434        9.8\n",
       "\n",
       "[1649 rows x 22 columns]"
      ]
     },
     "execution_count": 14,
     "metadata": {},
     "output_type": "execute_result"
    }
   ],
   "source": [
    "#To see our dataset after formating\n",
    "print('Dataset after clearning:')\n",
    "print('')\n",
    "data\n"
   ]
  },
  {
   "cell_type": "code",
   "execution_count": null,
   "metadata": {
    "colab": {
     "base_uri": "https://localhost:8080/"
    },
    "id": "DS89TiMtVMt7",
    "outputId": "beb8d042-06ee-4309-98d1-ef9d89008423"
   },
   "outputs": [
    {
     "data": {
      "text/plain": [
       "Country                            0\n",
       "Year                               0\n",
       "Status                             0\n",
       "Life_expectancy                    0\n",
       "Adult_Mortality                    0\n",
       "infant_deaths                      0\n",
       "Alcohol                            0\n",
       "percentage_expenditure             0\n",
       "Hepatitis_B                        0\n",
       "Measles                            0\n",
       "BMI                                0\n",
       "under_five_deaths                  0\n",
       "Polio                              0\n",
       "Total_expenditure                  0\n",
       "Diphtheria                         0\n",
       "HIV/AIDS                           0\n",
       "GDP                                0\n",
       "Population                         0\n",
       "thinness                           0\n",
       "thinness_5-9_years                 0\n",
       "Income_composition_of_resources    0\n",
       "Schooling                          0\n",
       "dtype: int64"
      ]
     },
     "execution_count": 15,
     "metadata": {},
     "output_type": "execute_result"
    }
   ],
   "source": [
    "data.isnull().sum()"
   ]
  },
  {
   "cell_type": "markdown",
   "metadata": {
    "id": "920e-LTJKRXy",
    "papermill": {
     "duration": 0.026493,
     "end_time": "2021-03-26T16:11:24.192731",
     "exception": false,
     "start_time": "2021-03-26T16:11:24.166238",
     "status": "completed"
    },
    "tags": []
   },
   "source": [
    "#6. Data Analysis:"
   ]
  },
  {
   "cell_type": "markdown",
   "metadata": {
    "id": "mWu2Jev7KRX0",
    "papermill": {
     "duration": 0.027774,
     "end_time": "2021-03-26T16:11:24.506064",
     "exception": false,
     "start_time": "2021-03-26T16:11:24.478290",
     "status": "completed"
    },
    "tags": []
   },
   "source": [
    "#### Countries Vs Life Expectancy:"
   ]
  },
  {
   "cell_type": "code",
   "execution_count": null,
   "metadata": {
    "colab": {
     "base_uri": "https://localhost:8080/"
    },
    "collapsed": true,
    "execution": {
     "iopub.execute_input": "2021-03-26T16:11:24.566789Z",
     "iopub.status.busy": "2021-03-26T16:11:24.565874Z",
     "iopub.status.idle": "2021-03-26T16:11:24.586336Z",
     "shell.execute_reply": "2021-03-26T16:11:24.586815Z"
    },
    "id": "zfCvRRfKKRX0",
    "outputId": "fd708cab-7767-4b48-bac7-f3a5fcdd9ead",
    "papermill": {
     "duration": 0.052711,
     "end_time": "2021-03-26T16:11:24.587008",
     "exception": false,
     "start_time": "2021-03-26T16:11:24.534297",
     "status": "completed"
    },
    "tags": []
   },
   "outputs": [
    {
     "name": "stdout",
     "output_type": "stream",
     "text": [
      "Top 10 Countries with Most Life Expectancy\n",
      "==================================================\n",
      "Country\n",
      "Ireland        83.440000\n",
      "Canada         82.233333\n",
      "France         82.206667\n",
      "Italy          82.153333\n",
      "Spain          82.020000\n",
      "Australia      81.907143\n",
      "Sweden         81.900000\n",
      "Austria        81.480000\n",
      "Netherlands    81.325000\n",
      "Greece         81.233333\n",
      "Name: Life_expectancy, dtype: float64\n",
      "==================================================\n",
      "Top 10 Countries with Least Life Expectancy\n",
      "==================================================\n",
      "Country\n",
      "Sierra Leone                48.425000\n",
      "Lesotho                     48.608333\n",
      "Zimbabwe                    49.386667\n",
      "Malawi                      50.261538\n",
      "Angola                      50.675000\n",
      "Swaziland                   50.820000\n",
      "Central African Republic    51.416667\n",
      "Chad                        52.285714\n",
      "Nigeria                     52.840000\n",
      "Mozambique                  53.407143\n",
      "Name: Life_expectancy, dtype: float64\n",
      "==================================================\n",
      "Country\n",
      "Ireland        84.00\n",
      "Sweden         81.80\n",
      "Australia      81.80\n",
      "Spain          81.60\n",
      "Italy          81.60\n",
      "Canada         81.55\n",
      "Israel         81.50\n",
      "France         81.50\n",
      "Netherlands    81.25\n",
      "Austria        81.00\n",
      "Name: Life_expectancy, dtype: float64\n"
     ]
    }
   ],
   "source": [
    "print(\"Top 10 Countries with Most Life Expectancy\")\n",
    "print(\"=\"*50)\n",
    "print(data.groupby(\"Country\").Life_expectancy.mean().sort_values(ascending =False).head(10))\n",
    "print(\"=\"*50)\n",
    "print(\"Top 10 Countries with Least Life Expectancy\")\n",
    "print(\"=\"*50)\n",
    "print(data.groupby(\"Country\").Life_expectancy.mean().sort_values(ascending =True).head(10))\n",
    "print(\"=\"*50)\n",
    "print(data.groupby(\"Country\").Life_expectancy.median().sort_values(ascending =False).head(10))"
   ]
  },
  {
   "cell_type": "markdown",
   "metadata": {
    "id": "_6zzkMxE3sht"
   },
   "source": [
    "The above data shows the data of countries with most life expectancy and with least life expectancy."
   ]
  },
  {
   "cell_type": "markdown",
   "metadata": {
    "id": "iFo_4eAbKRX1",
    "papermill": {
     "duration": 0.028251,
     "end_time": "2021-03-26T16:11:24.643906",
     "exception": false,
     "start_time": "2021-03-26T16:11:24.615655",
     "status": "completed"
    },
    "tags": []
   },
   "source": [
    "#### Countries Vs Life Expectancy on the basis of Status:"
   ]
  },
  {
   "cell_type": "code",
   "execution_count": null,
   "metadata": {
    "colab": {
     "base_uri": "https://localhost:8080/"
    },
    "execution": {
     "iopub.execute_input": "2021-03-26T16:11:24.710900Z",
     "iopub.status.busy": "2021-03-26T16:11:24.709997Z",
     "iopub.status.idle": "2021-03-26T16:11:24.714427Z",
     "shell.execute_reply": "2021-03-26T16:11:24.713944Z"
    },
    "id": "gpdzIRhdKRX1",
    "outputId": "04401f71-43ab-405e-ec58-1bccc77ba44e",
    "papermill": {
     "duration": 0.04161,
     "end_time": "2021-03-26T16:11:24.714573",
     "exception": false,
     "start_time": "2021-03-26T16:11:24.672963",
     "status": "completed"
    },
    "scrolled": true,
    "tags": []
   },
   "outputs": [
    {
     "data": {
      "text/plain": [
       "Status\n",
       "0    67.687349\n",
       "1    78.691736\n",
       "Name: Life_expectancy, dtype: float64"
      ]
     },
     "execution_count": 17,
     "metadata": {},
     "output_type": "execute_result"
    }
   ],
   "source": [
    "data.groupby(\"Status\").Life_expectancy.mean()"
   ]
  },
  {
   "cell_type": "markdown",
   "metadata": {
    "id": "ws8O1UhU25CW"
   },
   "source": [
    "The above group shows the mean value of life expectency according to the status of the country. \"1\" denotes the developed countries which has an average life expectancy of 78 years, whereas \"0\" denotes the developing countries which has an average life expectancy of 67 years."
   ]
  },
  {
   "cell_type": "markdown",
   "metadata": {
    "id": "m-VOM_N1KRX3",
    "papermill": {
     "duration": 0.02942,
     "end_time": "2021-03-26T16:11:24.872187",
     "exception": false,
     "start_time": "2021-03-26T16:11:24.842767",
     "status": "completed"
    },
    "tags": []
   },
   "source": [
    "#### Countries Vs Population:"
   ]
  },
  {
   "cell_type": "code",
   "execution_count": 1,
   "metadata": {
    "colab": {
     "base_uri": "https://localhost:8080/",
     "height": 287
    },
    "collapsed": true,
    "execution": {
     "iopub.execute_input": "2021-03-26T16:11:24.938974Z",
     "iopub.status.busy": "2021-03-26T16:11:24.938280Z",
     "iopub.status.idle": "2021-03-26T16:11:24.949005Z",
     "shell.execute_reply": "2021-03-26T16:11:24.949713Z"
    },
    "id": "rL_2-MgLKRX3",
    "outputId": "d01f3862-2ced-44fa-8ddf-61b99ab7071c",
    "papermill": {
     "duration": 0.048475,
     "end_time": "2021-03-26T16:11:24.950032",
     "exception": false,
     "start_time": "2021-03-26T16:11:24.901557",
     "status": "completed"
    },
    "tags": []
   },
   "outputs": [
    {
     "name": "stdout",
     "output_type": "stream",
     "text": [
      "==================================================\n",
      "Top 10 Countries with Most Population\n",
      "==================================================\n"
     ]
    },
    {
     "ename": "NameError",
     "evalue": "ignored",
     "output_type": "error",
     "traceback": [
      "\u001b[0;31m---------------------------------------------------------------------------\u001b[0m",
      "\u001b[0;31mNameError\u001b[0m                                 Traceback (most recent call last)",
      "\u001b[0;32m<ipython-input-1-044af72bad77>\u001b[0m in \u001b[0;36m<module>\u001b[0;34m()\u001b[0m\n\u001b[1;32m      2\u001b[0m \u001b[0mprint\u001b[0m\u001b[0;34m(\u001b[0m\u001b[0;34m\"Top 10 Countries with Most Population\"\u001b[0m\u001b[0;34m)\u001b[0m\u001b[0;34m\u001b[0m\u001b[0;34m\u001b[0m\u001b[0m\n\u001b[1;32m      3\u001b[0m \u001b[0mprint\u001b[0m\u001b[0;34m(\u001b[0m\u001b[0;34m\"=\"\u001b[0m\u001b[0;34m*\u001b[0m\u001b[0;36m50\u001b[0m\u001b[0;34m)\u001b[0m\u001b[0;34m\u001b[0m\u001b[0;34m\u001b[0m\u001b[0m\n\u001b[0;32m----> 4\u001b[0;31m \u001b[0mprint\u001b[0m\u001b[0;34m(\u001b[0m\u001b[0mdata\u001b[0m\u001b[0;34m.\u001b[0m\u001b[0mgroupby\u001b[0m\u001b[0;34m(\u001b[0m\u001b[0;34m\"Country\"\u001b[0m\u001b[0;34m)\u001b[0m\u001b[0;34m.\u001b[0m\u001b[0mPopulation\u001b[0m\u001b[0;34m.\u001b[0m\u001b[0mmean\u001b[0m\u001b[0;34m(\u001b[0m\u001b[0;34m)\u001b[0m\u001b[0;34m.\u001b[0m\u001b[0msort_values\u001b[0m\u001b[0;34m(\u001b[0m\u001b[0mascending\u001b[0m \u001b[0;34m=\u001b[0m\u001b[0;32mFalse\u001b[0m\u001b[0;34m)\u001b[0m\u001b[0;34m.\u001b[0m\u001b[0mhead\u001b[0m\u001b[0;34m(\u001b[0m\u001b[0;36m10\u001b[0m\u001b[0;34m)\u001b[0m\u001b[0;34m)\u001b[0m\u001b[0;34m\u001b[0m\u001b[0;34m\u001b[0m\u001b[0m\n\u001b[0m\u001b[1;32m      5\u001b[0m \u001b[0mprint\u001b[0m\u001b[0;34m(\u001b[0m\u001b[0;34m\"=\"\u001b[0m\u001b[0;34m*\u001b[0m\u001b[0;36m50\u001b[0m\u001b[0;34m)\u001b[0m\u001b[0;34m\u001b[0m\u001b[0;34m\u001b[0m\u001b[0m\n\u001b[1;32m      6\u001b[0m \u001b[0mprint\u001b[0m\u001b[0;34m(\u001b[0m\u001b[0;34m\"Top 10 Countries with Least Population\"\u001b[0m\u001b[0;34m)\u001b[0m\u001b[0;34m\u001b[0m\u001b[0;34m\u001b[0m\u001b[0m\n",
      "\u001b[0;31mNameError\u001b[0m: name 'data' is not defined"
     ]
    }
   ],
   "source": [
    "print(\"=\"*50)\n",
    "print(\"Top 10 Countries with Most Population\")\n",
    "print(\"=\"*50)\n",
    "print(data.groupby(\"Country\").Population.mean().sort_values(ascending =False).head(10))\n",
    "print(\"=\"*50)\n",
    "print(\"Top 10 Countries with Least Population\")\n",
    "print(\"=\"*50)\n",
    "print(data.groupby(\"Country\").Population.mean().sort_values(ascending =True).head(10))"
   ]
  },
  {
   "cell_type": "markdown",
   "metadata": {
    "id": "BJrSaIl3ARcY"
   },
   "source": [
    "The above data analysis presents trhe relationship between countries and their population. This data shows the counties with highest population and counties with lowest population."
   ]
  },
  {
   "cell_type": "markdown",
   "metadata": {
    "id": "idmeQkWSKRX3",
    "papermill": {
     "duration": 0.029458,
     "end_time": "2021-03-26T16:11:25.010584",
     "exception": false,
     "start_time": "2021-03-26T16:11:24.981126",
     "status": "completed"
    },
    "tags": []
   },
   "source": [
    "#### Countries Vs GDP:"
   ]
  },
  {
   "cell_type": "code",
   "execution_count": null,
   "metadata": {
    "colab": {
     "base_uri": "https://localhost:8080/"
    },
    "collapsed": true,
    "execution": {
     "iopub.execute_input": "2021-03-26T16:11:25.079493Z",
     "iopub.status.busy": "2021-03-26T16:11:25.076831Z",
     "iopub.status.idle": "2021-03-26T16:11:25.087055Z",
     "shell.execute_reply": "2021-03-26T16:11:25.086511Z"
    },
    "id": "uHv2chY1KRX4",
    "outputId": "803b03a4-e89e-44f2-865c-c1e04e26c75a",
    "papermill": {
     "duration": 0.04709,
     "end_time": "2021-03-26T16:11:25.087213",
     "exception": false,
     "start_time": "2021-03-26T16:11:25.040123",
     "status": "completed"
    },
    "tags": []
   },
   "outputs": [
    {
     "name": "stdout",
     "output_type": "stream",
     "text": [
      "==================================================\n",
      "Top 10 Countries with Highest GDP\n",
      "==================================================\n",
      "Country\n",
      "Luxembourg     56727.492103\n",
      "Netherlands    39640.341955\n",
      "Australia      35391.195154\n",
      "Austria        33171.578263\n",
      "Sweden         32232.377078\n",
      "Ireland        32225.113914\n",
      "Canada         29568.930782\n",
      "France         25794.803399\n",
      "Germany        23215.140268\n",
      "Italy          22627.158025\n",
      "Name: GDP, dtype: float64\n",
      "==================================================\n",
      "Top 10 Countries with Lowest GDP\n",
      "==================================================\n",
      "Country\n",
      "Haiti                 82.190242\n",
      "Burundi              151.485431\n",
      "Equatorial Guinea    192.597330\n",
      "Senegal              198.571244\n",
      "Malawi               241.337392\n",
      "Sierra Leone         250.325831\n",
      "Eritrea              286.940811\n",
      "Guinea               311.268858\n",
      "Niger                319.388894\n",
      "Liberia              328.764246\n",
      "Name: GDP, dtype: float64\n"
     ]
    }
   ],
   "source": [
    "print(\"=\"*50)\n",
    "print(\"Top 10 Countries with Highest GDP\")\n",
    "print(\"=\"*50)\n",
    "print(data.groupby(\"Country\").GDP.mean().sort_values(ascending =False).head(10))\n",
    "print(\"=\"*50)\n",
    "print(\"Top 10 Countries with Lowest GDP\")\n",
    "print(\"=\"*50)\n",
    "print(data.groupby(\"Country\").GDP.mean().sort_values(ascending =True).head(10))"
   ]
  },
  {
   "cell_type": "markdown",
   "metadata": {
    "id": "vWr15aY__-CD"
   },
   "source": [
    "The above data analysis shows the relationship between countries and the GDP. And this shows the lis of countries with highest and lowest GDP"
   ]
  },
  {
   "cell_type": "markdown",
   "metadata": {
    "id": "PVA_LEm0KRX4",
    "papermill": {
     "duration": 0.030033,
     "end_time": "2021-03-26T16:11:25.148610",
     "exception": false,
     "start_time": "2021-03-26T16:11:25.118577",
     "status": "completed"
    },
    "tags": []
   },
   "source": [
    "### Here is the list of features that we are going to impute with other features: "
   ]
  },
  {
   "cell_type": "markdown",
   "metadata": {
    "id": "l8lr56h1BDKf"
   },
   "source": [
    "**Impute 'Adult_Mortality' feature with 'Life expactancy' feature.**"
   ]
  },
  {
   "cell_type": "code",
   "execution_count": null,
   "metadata": {
    "colab": {
     "base_uri": "https://localhost:8080/",
     "height": 297
    },
    "id": "ULvKZ4z80FVQ",
    "outputId": "1ddd903c-6e2f-4cba-86c1-7a4cd162a0fb"
   },
   "outputs": [
    {
     "data": {
      "text/plain": [
       "<matplotlib.axes._subplots.AxesSubplot at 0x7fb92e4b9f90>"
      ]
     },
     "execution_count": 20,
     "metadata": {},
     "output_type": "execute_result"
    },
    {
     "data": {
      "image/png": "[encoded data removed]",
      "text/plain": [
       "<Figure size 432x288 with 1 Axes>"
      ]
     },
     "metadata": {
      "needs_background": "light"
     },
     "output_type": "display_data"
    }
   ],
   "source": [
    "sns.regplot(x=\"Life_expectancy\",y = 'Adult_Mortality',data = data,scatter= True, fit_reg=True)"
   ]
  },
  {
   "cell_type": "markdown",
   "metadata": {
    "id": "uOMumQ8uCt1J"
   },
   "source": [
    "A somewhat linear relationship with negative correlation, which is true, as the adult mortality increases, the less life expectancy it has."
   ]
  },
  {
   "cell_type": "markdown",
   "metadata": {
    "id": "JzPnmRQPDgYE"
   },
   "source": [
    "**Impute 'BMI' feature with 'Life expectancy' feature.**"
   ]
  },
  {
   "cell_type": "code",
   "execution_count": null,
   "metadata": {
    "colab": {
     "base_uri": "https://localhost:8080/",
     "height": 299
    },
    "id": "CF0g_Oxp0FLx",
    "outputId": "241d041a-918a-4681-9d5b-72070e08ff07"
   },
   "outputs": [
    {
     "data": {
      "text/plain": [
       "<matplotlib.axes._subplots.AxesSubplot at 0x7fb92e1f8050>"
      ]
     },
     "execution_count": 21,
     "metadata": {},
     "output_type": "execute_result"
    },
    {
     "data": {
      "image/png": "[encoded data removed]",
      "text/plain": [
       "<Figure size 432x288 with 1 Axes>"
      ]
     },
     "metadata": {
      "needs_background": "light"
     },
     "output_type": "display_data"
    }
   ],
   "source": [
    "sns.regplot(x=\"Life_expectancy\",y = 'BMI',data = data,scatter= True, fit_reg=True)"
   ]
  },
  {
   "cell_type": "markdown",
   "metadata": {
    "id": "nvGjS_Tb_TQ-"
   },
   "source": [
    "This linear relationship is a positive corelation, which means that, when the BMI increases or seems high, the life expectancy also moves towards positive direction"
   ]
  },
  {
   "cell_type": "markdown",
   "metadata": {
    "id": "puGfJ026FzHd"
   },
   "source": [
    "**Impute 'Schooling' feature with 'Life expactancy' feature.**"
   ]
  },
  {
   "cell_type": "code",
   "execution_count": null,
   "metadata": {
    "colab": {
     "base_uri": "https://localhost:8080/",
     "height": 297
    },
    "id": "rvFmJmNr0n47",
    "outputId": "29b9d05d-db9b-4a55-aba4-21c655021e98"
   },
   "outputs": [
    {
     "data": {
      "text/plain": [
       "<matplotlib.axes._subplots.AxesSubplot at 0x7fb92e202590>"
      ]
     },
     "execution_count": 22,
     "metadata": {},
     "output_type": "execute_result"
    },
    {
     "data": {
      "image/png": "[encoded data removed]",
      "text/plain": [
       "<Figure size 432x288 with 1 Axes>"
      ]
     },
     "metadata": {
      "needs_background": "light"
     },
     "output_type": "display_data"
    }
   ],
   "source": [
    "sns.regplot(x=\"Life_expectancy\",y = 'Schooling',data = data,scatter= True, fit_reg=True)"
   ]
  },
  {
   "cell_type": "markdown",
   "metadata": {
    "id": "gXUNdthcBQD2"
   },
   "source": [
    "This linear relationship is a positive corelation, which means that, when the Schooling increases or seems high, the life expectancy also moves towards positive direction"
   ]
  },
  {
   "cell_type": "markdown",
   "metadata": {
    "id": "GL6lVoOGGIpH"
   },
   "source": [
    "**Impute 'Income_composition_of_resources' feature with 'Life expactancy' feature.**"
   ]
  },
  {
   "cell_type": "code",
   "execution_count": null,
   "metadata": {
    "colab": {
     "base_uri": "https://localhost:8080/",
     "height": 297
    },
    "id": "o0XBEmUd0r0A",
    "outputId": "bd776874-e0f4-4a47-80eb-045672025a46"
   },
   "outputs": [
    {
     "data": {
      "text/plain": [
       "<matplotlib.axes._subplots.AxesSubplot at 0x7fb92dcaf8d0>"
      ]
     },
     "execution_count": 23,
     "metadata": {},
     "output_type": "execute_result"
    },
    {
     "data": {
      "image/png": "[encoded data removed]",
      "text/plain": [
       "<Figure size 432x288 with 1 Axes>"
      ]
     },
     "metadata": {
      "needs_background": "light"
     },
     "output_type": "display_data"
    }
   ],
   "source": [
    "sns.regplot(x=\"Life_expectancy\",y = 'Income_composition_of_resources',data = data,scatter= True, fit_reg=True)"
   ]
  },
  {
   "cell_type": "markdown",
   "metadata": {
    "id": "R9W_PGGoBU3q"
   },
   "source": [
    "This linear relationship is a positive corelation, which means that, when the Income composition of resourse increases or seems high, the life expectancy is high."
   ]
  },
  {
   "cell_type": "markdown",
   "metadata": {
    "id": "GcPdXC89F_VR"
   },
   "source": [
    "**Impute 'HIV/AIDS' feature with 'Life expactancy' feature.**"
   ]
  },
  {
   "cell_type": "code",
   "execution_count": null,
   "metadata": {
    "colab": {
     "base_uri": "https://localhost:8080/",
     "height": 297
    },
    "id": "RqVaDQm51jiR",
    "outputId": "1a02b981-0c36-4734-a5b8-973ebfa6b17a"
   },
   "outputs": [
    {
     "data": {
      "text/plain": [
       "<matplotlib.axes._subplots.AxesSubplot at 0x7fb92dc9a590>"
      ]
     },
     "execution_count": 24,
     "metadata": {},
     "output_type": "execute_result"
    },
    {
     "data": {
      "image/png": "[encoded data removed]",
      "text/plain": [
       "<Figure size 432x288 with 1 Axes>"
      ]
     },
     "metadata": {
      "needs_background": "light"
     },
     "output_type": "display_data"
    }
   ],
   "source": [
    "sns.regplot(x=\"Life_expectancy\",y = 'HIV/AIDS',data = data,scatter= True, fit_reg=True)"
   ]
  },
  {
   "cell_type": "markdown",
   "metadata": {
    "id": "YUCaLDczBkjp"
   },
   "source": [
    "This linear relationship is a negative corelation, which means that, when the HIV/AIDS decreases or seems high, the life expectancy moves towards positive direction"
   ]
  },
  {
   "cell_type": "markdown",
   "metadata": {
    "id": "L6MMDG5-UpVy"
   },
   "source": [
    "Now, \n",
    "As we are predicting Life Expectancy our 'Target'(y) variable will be 'Life expectancy'. And remaining attributes would be considered as X or Predictors.\n",
    "\n",
    "Let us check our Target Variable, also its distribution."
   ]
  },
  {
   "cell_type": "code",
   "execution_count": null,
   "metadata": {
    "colab": {
     "base_uri": "https://localhost:8080/",
     "height": 280
    },
    "id": "taLviPu3UE88",
    "outputId": "8726ef5e-b4dc-425d-9aef-e887f1be8d95"
   },
   "outputs": [
    {
     "data": {
      "image/png": "[encoded data removed]",
      "text/plain": [
       "<Figure size 432x288 with 1 Axes>"
      ]
     },
     "metadata": {
      "needs_background": "light"
     },
     "output_type": "display_data"
    }
   ],
   "source": [
    "sns.distplot(data['Life_expectancy']);"
   ]
  },
  {
   "cell_type": "markdown",
   "metadata": {
    "id": "yvr9EVEuUu5v"
   },
   "source": [
    "It almost have a normal distribution with negative skew."
   ]
  },
  {
   "cell_type": "markdown",
   "metadata": {
    "id": "eL4a6dL_KRX7",
    "papermill": {
     "duration": 0.091479,
     "end_time": "2021-03-26T16:12:01.168307",
     "exception": false,
     "start_time": "2021-03-26T16:12:01.076828",
     "status": "completed"
    },
    "tags": []
   },
   "source": [
    "#7. Prediction & Accuracy"
   ]
  },
  {
   "cell_type": "markdown",
   "metadata": {
    "id": "DFMWGmUgEXMZ"
   },
   "source": [
    "We'll split the train and test data and create the model"
   ]
  },
  {
   "cell_type": "code",
   "execution_count": null,
   "metadata": {
    "id": "UOfOdRtIIHoj"
   },
   "outputs": [],
   "source": [
    "#____________________________________________Spliting data____________________________________________\n",
    "\n",
    "#****Set TEST****\n",
    "from sklearn.model_selection import train_test_split\n",
    "X_train, X_test, y_train, y_test = train_test_split(data[[\n",
    "    'Status','Adult_Mortality','infant_deaths','percentage_expenditure','Measles','BMI'\n",
    "    ,'under_five_deaths','Total_expenditure','HIV/AIDS','GDP','Income_composition_of_resources'\n",
    "                                ,'Schooling']], data.Life_expectancy, test_size=0.15, random_state=32)\n"
   ]
  },
  {
   "cell_type": "markdown",
   "metadata": {
    "id": "I03bZF7aSA3w"
   },
   "source": [
    "Lets solve this problem by using Linear Regression and see what it gives us."
   ]
  },
  {
   "cell_type": "code",
   "execution_count": null,
   "metadata": {
    "colab": {
     "base_uri": "https://localhost:8080/"
    },
    "id": "h1wzfBaGIjvy",
    "outputId": "5939dc00-1869-4762-d2bd-17000e028e82"
   },
   "outputs": [
    {
     "data": {
      "text/plain": [
       "LinearRegression()"
      ]
     },
     "execution_count": 27,
     "metadata": {},
     "output_type": "execute_result"
    }
   ],
   "source": [
    "#****Set Train****\n",
    "reg = linear_model.LinearRegression()\n",
    "reg.fit(X_train,y_train)"
   ]
  },
  {
   "cell_type": "code",
   "execution_count": null,
   "metadata": {
    "colab": {
     "base_uri": "https://localhost:8080/"
    },
    "id": "nFUvcgNfJTe_",
    "outputId": "3fb7401a-3c4e-4d62-de66-f90b491cecd3"
   },
   "outputs": [
    {
     "name": "stdout",
     "output_type": "stream",
     "text": [
      "This is regression accuracy score:\n"
     ]
    },
    {
     "data": {
      "text/plain": [
       "0.8455408689701087"
      ]
     },
     "execution_count": 28,
     "metadata": {},
     "output_type": "execute_result"
    }
   ],
   "source": [
    "#____________________________________________SEE THE ACCURACY SCORE____________________________________________\n",
    "print('This is regression accuracy score:')\n",
    "reg.score(X_test, y_test)"
   ]
  },
  {
   "cell_type": "code",
   "execution_count": null,
   "metadata": {
    "colab": {
     "base_uri": "https://localhost:8080/",
     "height": 347
    },
    "id": "KWrphBxBJYqd",
    "outputId": "473cd720-6abc-4415-af83-c5753bf0df10"
   },
   "outputs": [
    {
     "name": "stdout",
     "output_type": "stream",
     "text": [
      "Linear Regration of Input Data vs Life Expectancy:\n",
      "\n"
     ]
    },
    {
     "data": {
      "text/plain": [
       "<function matplotlib.pyplot.show>"
      ]
     },
     "execution_count": 29,
     "metadata": {},
     "output_type": "execute_result"
    },
    {
     "data": {
      "image/png": "[encoded data removed]",
      "text/plain": [
       "<Figure size 432x288 with 1 Axes>"
      ]
     },
     "metadata": {
      "needs_background": "light"
     },
     "output_type": "display_data"
    }
   ],
   "source": [
    "#____________________________________________Display Data in Linear Regression____________________________________________\n",
    "prediction_of_test = reg.predict(X_test)\n",
    "\n",
    "%matplotlib inline\n",
    "\n",
    "plt.scatter(y_test, prediction_of_test, color='black')\n",
    "\n",
    "x0 = min(y_test)\n",
    "x1 = max(y_test)\n",
    "y0 = min(prediction_of_test)\n",
    "y1 = max(prediction_of_test)\n",
    "plt.plot([x0,x1],[y0,y1],color=\"red\")\n",
    "\n",
    "plt.xlabel(\"Input Data\")\n",
    "plt.ylabel(\"Life Expectancy\")\n",
    "plt.title(\"Input Data Vs Life Expectancy\")\n",
    "\n",
    "print('Linear Regration of Input Data vs Life Expectancy:')\n",
    "print('')\n",
    "plt.show"
   ]
  },
  {
   "cell_type": "markdown",
   "metadata": {
    "id": "loHExJL42mR6"
   },
   "source": [
    "Looks like we have got our predictions, lets have a look at our predictions."
   ]
  },
  {
   "cell_type": "code",
   "execution_count": null,
   "metadata": {
    "colab": {
     "base_uri": "https://localhost:8080/"
    },
    "id": "76AgQawggQWE",
    "outputId": "68ebe74d-cfc6-49c8-e406-af33ca60fe5f"
   },
   "outputs": [
    {
     "name": "stdout",
     "output_type": "stream",
     "text": [
      "The first 10 test data are: \n",
      " 1077    58.4\n",
      "561     75.8\n",
      "1379    66.1\n",
      "49      51.7\n",
      "2363    68.8\n",
      "1637    81.0\n",
      "1587    74.8\n",
      "1308    73.5\n",
      "1141    74.1\n",
      "1720    67.3\n",
      "Name: Life_expectancy, dtype: float64\n",
      "\n",
      "\n",
      "The pridiction of first 10 test data are \n",
      "\n"
     ]
    },
    {
     "data": {
      "text/plain": [
       "array([60.57882274, 74.63671527, 73.25161427, 62.58273083, 66.50303039,\n",
       "       77.40638595, 73.15137887, 70.37574565, 70.34337292, 71.96488674])"
      ]
     },
     "execution_count": 47,
     "metadata": {},
     "output_type": "execute_result"
    }
   ],
   "source": [
    "#First 10 test data\n",
    "print(\"The first 10 test data are: \\n\", y_test[0:10])\n",
    "\n",
    "print(\"\\n\")\n",
    "\n",
    "# First 10 predictions\n",
    "print(\"The pridiction of first 10 test data are \\n\")\n",
    "prediction_of_test[0:10]\n"
   ]
  },
  {
   "cell_type": "code",
   "execution_count": null,
   "metadata": {
    "colab": {
     "base_uri": "https://localhost:8080/"
    },
    "id": "QXkafuJ56VZu",
    "outputId": "beffccb9-9287-4431-e96d-469f98d6cfd9"
   },
   "outputs": [
    {
     "name": "stdout",
     "output_type": "stream",
     "text": [
      "Mean Absolute Error: 2.7680147987739927\n",
      "Mean Squared Error: 12.787620401868613\n"
     ]
    }
   ],
   "source": [
    "from sklearn import metrics\n",
    "print('Mean Absolute Error:', metrics.mean_absolute_error(y_test, prediction_of_test))\n",
    "print('Mean Squared Error:', metrics.mean_squared_error(y_test, prediction_of_test))"
   ]
  },
  {
   "cell_type": "markdown",
   "metadata": {
    "id": "qou8Kw5n2u3L"
   },
   "source": [
    "Looks good but we do need some metrics to evaluate our model. In this Regression tasks nothing better than using RMSE. Lets Examine our model using RMSE."
   ]
  },
  {
   "cell_type": "code",
   "execution_count": null,
   "metadata": {
    "colab": {
     "base_uri": "https://localhost:8080/"
    },
    "id": "uZOOU6kbN_zi",
    "outputId": "cb453e40-27a4-47dd-abb1-9777a8a5e9e0"
   },
   "outputs": [
    {
     "name": "stdout",
     "output_type": "stream",
     "text": [
      "Root Mean Squared Error: 3.575978244042966\n"
     ]
    }
   ],
   "source": [
    "from sklearn.metrics import mean_squared_error\n",
    "print('Root Mean Squared Error:',mean_squared_error(y_test,prediction_of_test)**(0.5))"
   ]
  },
  {
   "cell_type": "markdown",
   "metadata": {
    "id": "thH3y9-i4xhc"
   },
   "source": [
    "The Root Mean Square Error (RMSE) is a typical method of calculating a model's error in predicting quantitative data. Its formal definition is as follows:\n",
    "Mathematically:\n",
    "\\begin{align}\n",
    "        \\mathbf{RMSE}  = \\sqrt{\\sum_{i=1}^n (1/m (\\hat(y_i) - y_i)^2)}\n",
    "    \\end{align}\n",
    "\n",
    "\n",
    "where, \n",
    "^(y_i) is the predicted value ,  (y_i) ^2 is the observed value & m is the number of observation\n"
   ]
  },
  {
   "cell_type": "code",
   "execution_count": null,
   "metadata": {
    "colab": {
     "base_uri": "https://localhost:8080/"
    },
    "id": "XSk8kyF2OKOd",
    "outputId": "5c9da92e-96e3-44a3-cc7f-d89cac47ade4"
   },
   "outputs": [
    {
     "name": "stdout",
     "output_type": "stream",
     "text": [
      "r2 score is: 0.8455408689701087\n"
     ]
    }
   ],
   "source": [
    "from sklearn.metrics import r2_score\n",
    "print('r2 score is:',r2_score(y_test,prediction_of_test))"
   ]
  },
  {
   "cell_type": "markdown",
   "metadata": {
    "id": "3rAnhpuK7Y8H"
   },
   "source": [
    "Now, lets see the prediction of Life expectancy on the basis of our Input datas. The Input data includes: "
   ]
  },
  {
   "cell_type": "markdown",
   "metadata": {
    "id": "A_a_mywb7YTv"
   },
   "source": [
    "Status  ,  Adult_Mortality  , infant_deaths ,  percentage_expenditure  ,   Measles ,  BMI ,  under_five_deaths ,  Total_expenditure ,  HIV/AIDS ,  GDP ,   Income_composition_of_resources ,  Schooling"
   ]
  },
  {
   "cell_type": "code",
   "execution_count": null,
   "metadata": {
    "colab": {
     "base_uri": "https://localhost:8080/"
    },
    "id": "Oa2QwrtJJeVf",
    "outputId": "44fa62a4-c476-432a-d705-1d602674b7bc"
   },
   "outputs": [
    {
     "name": "stdout",
     "output_type": "stream",
     "text": [
      "Prediction of life expectancy:\n"
     ]
    },
    {
     "data": {
      "text/plain": [
       "array([64.4449955])"
      ]
     },
     "execution_count": 36,
     "metadata": {},
     "output_type": "execute_result"
    }
   ],
   "source": [
    "#____________________________________________Try Predict 01_____________________________________________\n",
    "print('Prediction of life expectancy:')\n",
    "reg.predict([[0,263,62,71.27962,1154,19.1,83,8.16,0.1,584.2592,0.479,10.1]])"
   ]
  },
  {
   "cell_type": "code",
   "execution_count": null,
   "metadata": {
    "colab": {
     "base_uri": "https://localhost:8080/"
    },
    "id": "XtxgDL3zJmR8",
    "outputId": "36297444-1abe-4116-83b3-c33ed5b0cdcc"
   },
   "outputs": [
    {
     "name": "stdout",
     "output_type": "stream",
     "text": [
      "Prediction of life expectancy:\n"
     ]
    },
    {
     "data": {
      "text/plain": [
       "array([62.36698366])"
      ]
     },
     "execution_count": 37,
     "metadata": {},
     "output_type": "execute_result"
    }
   ],
   "source": [
    "#____________________________________________Try Predict 02____________________________________________\n",
    "print('Prediction of life expectancy:')\n",
    "reg.predict([[0,281,77,56.76221682,2861,16.2,106,9.42,0.1,445.8932979,0.434,8.9]])"
   ]
  },
  {
   "cell_type": "code",
   "execution_count": null,
   "metadata": {
    "colab": {
     "base_uri": "https://localhost:8080/"
    },
    "id": "RlVevp4rJpoQ",
    "outputId": "fa444d69-85e6-4a1f-9038-b59b5c04ddd2"
   },
   "outputs": [
    {
     "name": "stdout",
     "output_type": "stream",
     "text": [
      "Prediction of life expectancy:\n"
     ]
    },
    {
     "data": {
      "text/plain": [
       "array([59.01034217])"
      ]
     },
     "execution_count": 38,
     "metadata": {},
     "output_type": "execute_result"
    }
   ],
   "source": [
    "#____________________________________________Try Predict 03____________________________________________\n",
    "print('Prediction of life expectancy:')\n",
    "reg.predict([[0,295,87,11.08905273,798,13.4,122,8.82,0.1,198.7285436,0.373,6.5]])"
   ]
  },
  {
   "cell_type": "markdown",
   "metadata": {
    "id": "nWRvOdEE2EHN"
   },
   "source": [
    "#8. Conclusion\n",
    "I used linear regression to make some predictions, which gave me accurate-but not great-model due to some neglection on linear regression assumptions. In the future, I may be able to enhance my model by pre-processing the data to match the linear regression assumption, as well as applying a more advanced machine learning approach."
   ]
  }
 ],
 "metadata": {
  "colab": {
   "collapsed_sections": [],
   "name": "KalyanKhatry_2058924_Regresssion_Task.ipynb",
   "provenance": []
  },
  "kernelspec": {
   "display_name": "Python 3",
   "language": "python",
   "name": "python3"
  },
  "language_info": {
   "codemirror_mode": {
    "name": "ipython",
    "version": 3
   },
   "file_extension": ".py",
   "mimetype": "text/x-python",
   "name": "python",
   "nbconvert_exporter": "python",
   "pygments_lexer": "ipython3",
   "version": "3.8.8"
  },
  "papermill": {
   "default_parameters": {},
   "duration": 60.596249,
   "end_time": "2021-03-26T16:12:17.213721",
   "environment_variables": {},
   "exception": null,
   "input_path": "__notebook__.ipynb",
   "output_path": "__notebook__.ipynb",
   "parameters": {},
   "start_time": "2021-03-26T16:11:16.617472",
   "version": "2.2.2"
  }
 },
 "nbformat": 4,
 "nbformat_minor": 1
}
