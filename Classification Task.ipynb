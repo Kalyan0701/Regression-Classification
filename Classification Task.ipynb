{
 "cells": [
  {
   "cell_type": "markdown",
   "id": "dtMuLDHsDWsw",
   "metadata": {
    "id": "dtMuLDHsDWsw"
   },
   "source": [
    "# Logistic Regression\n",
    "When the value of the target variable is categorical in nature, logistic regression is used as a classification algorithm. When the data in issue has binary output, such as when it belongs to one of two classes or is either a 0 or a 1, logistic regression is most commonly used.\n"
   ]
  },
  {
   "cell_type": "markdown",
   "id": "2vjwHNbostoN",
   "metadata": {
    "id": "2vjwHNbostoN"
   },
   "source": [
    "# Classification\n",
    "\n",
    "In contrast to regression, where the goal variable is continuous, classification is a supervised learning issue with a categorical target variable. There are two types of classification: binary (only two potential values of the target variable) and multi-class (more than two categories)."
   ]
  },
  {
   "cell_type": "markdown",
   "id": "VcgwE1BvDuUR",
   "metadata": {
    "id": "VcgwE1BvDuUR"
   },
   "source": [
    "#### In this project, I have used 'Logistic Regression' dataset downloaded from kaggle. \n",
    "The dataset can be found at this url:\n",
    "https://www.kaggle.com/dragonheir/logistic-regression\n",
    "#### Now, I will be predicting whether user is going to buy a product displayed on a social networking site by clicking the ad on the site"
   ]
  },
  {
   "cell_type": "markdown",
   "id": "35253997",
   "metadata": {
    "id": "35253997",
    "papermill": {
     "duration": 0.039248,
     "end_time": "2022-01-13T10:52:10.497207",
     "exception": false,
     "start_time": "2022-01-13T10:52:10.457959",
     "status": "completed"
    },
    "tags": []
   },
   "source": [
    "# 1. Importing necessary packages for the Analysis:"
   ]
  },
  {
   "cell_type": "code",
   "execution_count": 2,
   "id": "fa05e134",
   "metadata": {
    "_cell_guid": "b1076dfc-b9ad-4769-8c92-a6c4dae69d19",
    "_uuid": "8f2839f25d086af736a60e9eeb907d3b93b6e0e5",
    "execution": {
     "iopub.execute_input": "2022-01-13T10:52:10.581736Z",
     "iopub.status.busy": "2022-01-13T10:52:10.580368Z",
     "iopub.status.idle": "2022-01-13T10:52:11.985705Z",
     "shell.execute_reply": "2022-01-13T10:52:11.984947Z",
     "shell.execute_reply.started": "2022-01-13T10:46:10.582658Z"
    },
    "id": "fa05e134",
    "papermill": {
     "duration": 1.448971,
     "end_time": "2022-01-13T10:52:11.985870",
     "exception": false,
     "start_time": "2022-01-13T10:52:10.536899",
     "status": "completed"
    },
    "tags": []
   },
   "outputs": [],
   "source": [
    "import pandas as pd                  # data processing,\n",
    "import numpy as np                   # linear algebra\n",
    "from matplotlib import pyplot as plt\n",
    "%matplotlib inline\n",
    "import seaborn as sns\n",
    "from sklearn.linear_model import LogisticRegression            #Import Library for Logistic Regression\n",
    "from sklearn.model_selection import train_test_split           # import important liberaries"
   ]
  },
  {
   "cell_type": "markdown",
   "id": "b231793e",
   "metadata": {
    "id": "b231793e",
    "papermill": {
     "duration": 0.036511,
     "end_time": "2022-01-13T10:52:12.060308",
     "exception": false,
     "start_time": "2022-01-13T10:52:12.023797",
     "status": "completed"
    },
    "tags": []
   },
   "source": [
    "# 2. Load the Dataset"
   ]
  },
  {
   "cell_type": "code",
   "execution_count": 1,
   "id": "b2ebfdd7",
   "metadata": {
    "colab": {
     "base_uri": "https://localhost:8080/",
     "height": 73,
     "resources": {
      "http://localhost:8080/nbextensions/google.colab/files.js": {
       "data": "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",
       "headers": [
        [
         "content-type",
         "application/javascript"
        ]
       ],
       "ok": true,
       "status": 200,
       "status_text": ""
      }
     }
    },
    "execution": {
     "iopub.execute_input": "2022-01-13T10:52:12.138141Z",
     "iopub.status.busy": "2022-01-13T10:52:12.137293Z",
     "iopub.status.idle": "2022-01-13T10:52:12.159069Z",
     "shell.execute_reply": "2022-01-13T10:52:12.159615Z",
     "shell.execute_reply.started": "2022-01-13T10:46:10.609754Z"
    },
    "id": "b2ebfdd7",
    "outputId": "6419a662-6a56-4a3c-fe8d-4fd532c72d2c",
    "papermill": {
     "duration": 0.063314,
     "end_time": "2022-01-13T10:52:12.159838",
     "exception": false,
     "start_time": "2022-01-13T10:52:12.096524",
     "status": "completed"
    },
    "tags": []
   },
   "outputs": [
    {
     "data": {
      "text/html": [
       "\n",
       "     <input type=\"file\" id=\"files-aac84f4e-aea6-4828-827d-313d2c6f0b27\" name=\"files[]\" multiple disabled\n",
       "        style=\"border:none\" />\n",
       "     <output id=\"result-aac84f4e-aea6-4828-827d-313d2c6f0b27\">\n",
       "      Upload widget is only available when the cell has been executed in the\n",
       "      current browser session. Please rerun this cell to enable.\n",
       "      </output>\n",
       "      <script src=\"/nbextensions/google.colab/files.js\"></script> "
      ],
      "text/plain": [
       "<IPython.core.display.HTML object>"
      ]
     },
     "metadata": {},
     "output_type": "display_data"
    },
    {
     "name": "stdout",
     "output_type": "stream",
     "text": [
      "Saving Social_Network_Ads.csv to Social_Network_Ads.csv\n"
     ]
    }
   ],
   "source": [
    "from google.colab import files\n",
    "uploaded = files.upload()"
   ]
  },
  {
   "cell_type": "code",
   "execution_count": 5,
   "id": "PiiXcGLxiErL",
   "metadata": {
    "id": "PiiXcGLxiErL"
   },
   "outputs": [],
   "source": [
    "# Loading the Data\n",
    "import io\n",
    "data = pd.read_csv(io.BytesIO(uploaded['Social_Network_Ads.csv']))"
   ]
  },
  {
   "cell_type": "markdown",
   "id": "e7d1ae18",
   "metadata": {
    "id": "e7d1ae18",
    "papermill": {
     "duration": 0.035674,
     "end_time": "2022-01-13T10:52:12.231730",
     "exception": false,
     "start_time": "2022-01-13T10:52:12.196056",
     "status": "completed"
    },
    "tags": []
   },
   "source": [
    "# 3. Data Analysis"
   ]
  },
  {
   "cell_type": "code",
   "execution_count": 6,
   "id": "96ae2b94",
   "metadata": {
    "colab": {
     "base_uri": "https://localhost:8080/",
     "height": 363
    },
    "execution": {
     "iopub.execute_input": "2022-01-13T10:52:12.306797Z",
     "iopub.status.busy": "2022-01-13T10:52:12.306082Z",
     "iopub.status.idle": "2022-01-13T10:52:12.326884Z",
     "shell.execute_reply": "2022-01-13T10:52:12.327382Z",
     "shell.execute_reply.started": "2022-01-13T10:46:10.636863Z"
    },
    "id": "96ae2b94",
    "outputId": "79484ffe-1aa4-4e43-921e-4ffe24f37b5c",
    "papermill": {
     "duration": 0.05962,
     "end_time": "2022-01-13T10:52:12.327546",
     "exception": false,
     "start_time": "2022-01-13T10:52:12.267926",
     "status": "completed"
    },
    "tags": []
   },
   "outputs": [
    {
     "data": {
      "text/html": [
       "\n",
       "  <div id=\"df-bb1a6dc0-6835-4ecb-a13b-35391930b046\">\n",
       "    <div class=\"colab-df-container\">\n",
       "      <div>\n",
       "<style scoped>\n",
       "    .dataframe tbody tr th:only-of-type {\n",
       "        vertical-align: middle;\n",
       "    }\n",
       "\n",
       "    .dataframe tbody tr th {\n",
       "        vertical-align: top;\n",
       "    }\n",
       "\n",
       "    .dataframe thead th {\n",
       "        text-align: right;\n",
       "    }\n",
       "</style>\n",
       "<table border=\"1\" class=\"dataframe\">\n",
       "  <thead>\n",
       "    <tr style=\"text-align: right;\">\n",
       "      <th></th>\n",
       "      <th>User ID</th>\n",
       "      <th>Gender</th>\n",
       "      <th>Age</th>\n",
       "      <th>EstimatedSalary</th>\n",
       "      <th>Purchased</th>\n",
       "    </tr>\n",
       "  </thead>\n",
       "  <tbody>\n",
       "    <tr>\n",
       "      <th>0</th>\n",
       "      <td>15624510</td>\n",
       "      <td>Male</td>\n",
       "      <td>19</td>\n",
       "      <td>19000</td>\n",
       "      <td>0</td>\n",
       "    </tr>\n",
       "    <tr>\n",
       "      <th>1</th>\n",
       "      <td>15810944</td>\n",
       "      <td>Male</td>\n",
       "      <td>35</td>\n",
       "      <td>20000</td>\n",
       "      <td>0</td>\n",
       "    </tr>\n",
       "    <tr>\n",
       "      <th>2</th>\n",
       "      <td>15668575</td>\n",
       "      <td>Female</td>\n",
       "      <td>26</td>\n",
       "      <td>43000</td>\n",
       "      <td>0</td>\n",
       "    </tr>\n",
       "    <tr>\n",
       "      <th>3</th>\n",
       "      <td>15603246</td>\n",
       "      <td>Female</td>\n",
       "      <td>27</td>\n",
       "      <td>57000</td>\n",
       "      <td>0</td>\n",
       "    </tr>\n",
       "    <tr>\n",
       "      <th>4</th>\n",
       "      <td>15804002</td>\n",
       "      <td>Male</td>\n",
       "      <td>19</td>\n",
       "      <td>76000</td>\n",
       "      <td>0</td>\n",
       "    </tr>\n",
       "    <tr>\n",
       "      <th>5</th>\n",
       "      <td>15728773</td>\n",
       "      <td>Male</td>\n",
       "      <td>27</td>\n",
       "      <td>58000</td>\n",
       "      <td>0</td>\n",
       "    </tr>\n",
       "    <tr>\n",
       "      <th>6</th>\n",
       "      <td>15598044</td>\n",
       "      <td>Female</td>\n",
       "      <td>27</td>\n",
       "      <td>84000</td>\n",
       "      <td>0</td>\n",
       "    </tr>\n",
       "    <tr>\n",
       "      <th>7</th>\n",
       "      <td>15694829</td>\n",
       "      <td>Female</td>\n",
       "      <td>32</td>\n",
       "      <td>150000</td>\n",
       "      <td>1</td>\n",
       "    </tr>\n",
       "    <tr>\n",
       "      <th>8</th>\n",
       "      <td>15600575</td>\n",
       "      <td>Male</td>\n",
       "      <td>25</td>\n",
       "      <td>33000</td>\n",
       "      <td>0</td>\n",
       "    </tr>\n",
       "    <tr>\n",
       "      <th>9</th>\n",
       "      <td>15727311</td>\n",
       "      <td>Female</td>\n",
       "      <td>35</td>\n",
       "      <td>65000</td>\n",
       "      <td>0</td>\n",
       "    </tr>\n",
       "  </tbody>\n",
       "</table>\n",
       "</div>\n",
       "      <button class=\"colab-df-convert\" onclick=\"convertToInteractive('df-bb1a6dc0-6835-4ecb-a13b-35391930b046')\"\n",
       "              title=\"Convert this dataframe to an interactive table.\"\n",
       "              style=\"display:none;\">\n",
       "        \n",
       "  <svg xmlns=\"http://www.w3.org/2000/svg\" height=\"24px\"viewBox=\"0 0 24 24\"\n",
       "       width=\"24px\">\n",
       "    <path d=\"M0 0h24v24H0V0z\" fill=\"none\"/>\n",
       "    <path d=\"M18.56 5.44l.94 2.06.94-2.06 2.06-.94-2.06-.94-.94-2.06-.94 2.06-2.06.94zm-11 1L8.5 8.5l.94-2.06 2.06-.94-2.06-.94L8.5 2.5l-.94 2.06-2.06.94zm10 10l.94 2.06.94-2.06 2.06-.94-2.06-.94-.94-2.06-.94 2.06-2.06.94z\"/><path d=\"M17.41 7.96l-1.37-1.37c-.4-.4-.92-.59-1.43-.59-.52 0-1.04.2-1.43.59L10.3 9.45l-7.72 7.72c-.78.78-.78 2.05 0 2.83L4 21.41c.39.39.9.59 1.41.59.51 0 1.02-.2 1.41-.59l7.78-7.78 2.81-2.81c.8-.78.8-2.07 0-2.86zM5.41 20L4 18.59l7.72-7.72 1.47 1.35L5.41 20z\"/>\n",
       "  </svg>\n",
       "      </button>\n",
       "      \n",
       "  <style>\n",
       "    .colab-df-container {\n",
       "      display:flex;\n",
       "      flex-wrap:wrap;\n",
       "      gap: 12px;\n",
       "    }\n",
       "\n",
       "    .colab-df-convert {\n",
       "      background-color: #E8F0FE;\n",
       "      border: none;\n",
       "      border-radius: 50%;\n",
       "      cursor: pointer;\n",
       "      display: none;\n",
       "      fill: #1967D2;\n",
       "      height: 32px;\n",
       "      padding: 0 0 0 0;\n",
       "      width: 32px;\n",
       "    }\n",
       "\n",
       "    .colab-df-convert:hover {\n",
       "      background-color: #E2EBFA;\n",
       "      box-shadow: 0px 1px 2px rgba(60, 64, 67, 0.3), 0px 1px 3px 1px rgba(60, 64, 67, 0.15);\n",
       "      fill: #174EA6;\n",
       "    }\n",
       "\n",
       "    [theme=dark] .colab-df-convert {\n",
       "      background-color: #3B4455;\n",
       "      fill: #D2E3FC;\n",
       "    }\n",
       "\n",
       "    [theme=dark] .colab-df-convert:hover {\n",
       "      background-color: #434B5C;\n",
       "      box-shadow: 0px 1px 3px 1px rgba(0, 0, 0, 0.15);\n",
       "      filter: drop-shadow(0px 1px 2px rgba(0, 0, 0, 0.3));\n",
       "      fill: #FFFFFF;\n",
       "    }\n",
       "  </style>\n",
       "\n",
       "      <script>\n",
       "        const buttonEl =\n",
       "          document.querySelector('#df-bb1a6dc0-6835-4ecb-a13b-35391930b046 button.colab-df-convert');\n",
       "        buttonEl.style.display =\n",
       "          google.colab.kernel.accessAllowed ? 'block' : 'none';\n",
       "\n",
       "        async function convertToInteractive(key) {\n",
       "          const element = document.querySelector('#df-bb1a6dc0-6835-4ecb-a13b-35391930b046');\n",
       "          const dataTable =\n",
       "            await google.colab.kernel.invokeFunction('convertToInteractive',\n",
       "                                                     [key], {});\n",
       "          if (!dataTable) return;\n",
       "\n",
       "          const docLinkHtml = 'Like what you see? Visit the ' +\n",
       "            '<a target=\"_blank\" href=https://colab.research.google.com/notebooks/data_table.ipynb>data table notebook</a>'\n",
       "            + ' to learn more about interactive tables.';\n",
       "          element.innerHTML = '';\n",
       "          dataTable['output_type'] = 'display_data';\n",
       "          await google.colab.output.renderOutput(dataTable, element);\n",
       "          const docLink = document.createElement('div');\n",
       "          docLink.innerHTML = docLinkHtml;\n",
       "          element.appendChild(docLink);\n",
       "        }\n",
       "      </script>\n",
       "    </div>\n",
       "  </div>\n",
       "  "
      ],
      "text/plain": [
       "    User ID  Gender  Age  EstimatedSalary  Purchased\n",
       "0  15624510    Male   19            19000          0\n",
       "1  15810944    Male   35            20000          0\n",
       "2  15668575  Female   26            43000          0\n",
       "3  15603246  Female   27            57000          0\n",
       "4  15804002    Male   19            76000          0\n",
       "5  15728773    Male   27            58000          0\n",
       "6  15598044  Female   27            84000          0\n",
       "7  15694829  Female   32           150000          1\n",
       "8  15600575    Male   25            33000          0\n",
       "9  15727311  Female   35            65000          0"
      ]
     },
     "execution_count": 6,
     "metadata": {},
     "output_type": "execute_result"
    }
   ],
   "source": [
    "data.head(10)"
   ]
  },
  {
   "cell_type": "code",
   "execution_count": 7,
   "id": "9fd8fcc5",
   "metadata": {
    "colab": {
     "base_uri": "https://localhost:8080/"
    },
    "execution": {
     "iopub.execute_input": "2022-01-13T10:52:12.428197Z",
     "iopub.status.busy": "2022-01-13T10:52:12.426938Z",
     "iopub.status.idle": "2022-01-13T10:52:12.430376Z",
     "shell.execute_reply": "2022-01-13T10:52:12.430923Z",
     "shell.execute_reply.started": "2022-01-13T10:46:10.657535Z"
    },
    "id": "9fd8fcc5",
    "outputId": "3adf53aa-fd96-495a-a0fe-a5cc2676a044",
    "papermill": {
     "duration": 0.066444,
     "end_time": "2022-01-13T10:52:12.431109",
     "exception": false,
     "start_time": "2022-01-13T10:52:12.364665",
     "status": "completed"
    },
    "tags": []
   },
   "outputs": [
    {
     "name": "stdout",
     "output_type": "stream",
     "text": [
      "<class 'pandas.core.frame.DataFrame'>\n",
      "RangeIndex: 400 entries, 0 to 399\n",
      "Data columns (total 5 columns):\n",
      " #   Column           Non-Null Count  Dtype \n",
      "---  ------           --------------  ----- \n",
      " 0   User ID          400 non-null    int64 \n",
      " 1   Gender           400 non-null    object\n",
      " 2   Age              400 non-null    int64 \n",
      " 3   EstimatedSalary  400 non-null    int64 \n",
      " 4   Purchased        400 non-null    int64 \n",
      "dtypes: int64(4), object(1)\n",
      "memory usage: 15.8+ KB\n"
     ]
    }
   ],
   "source": [
    "data.info()"
   ]
  },
  {
   "cell_type": "markdown",
   "id": "z1E49glvs7ND",
   "metadata": {
    "id": "z1E49glvs7ND"
   },
   "source": [
    "Here, we see the different variables included in the data set. Let us briefly describe each variable:\n",
    "\t\t\t\t\t\n",
    "\n",
    "1.   User Id     : Unique id of each user\n",
    "2.   Gender   : Sex of each user (i.e. 'Male' or 'Female')\n",
    "3.  Age : Data of age of each user\n",
    "4.   Estimated Salary   : Data od salary of each user\n",
    "5.   Purchased    : Data of user if they buy or not ( Denoted as : 'Purchased: 1' & 'Not Purchased:0' )"
   ]
  },
  {
   "cell_type": "markdown",
   "id": "b913015b",
   "metadata": {
    "id": "b913015b",
    "papermill": {
     "duration": 0.036605,
     "end_time": "2022-01-13T10:52:12.505959",
     "exception": false,
     "start_time": "2022-01-13T10:52:12.469354",
     "status": "completed"
    },
    "tags": []
   },
   "source": [
    "# 4. Check for Missing Values"
   ]
  },
  {
   "cell_type": "code",
   "execution_count": 8,
   "id": "fbdb3c35",
   "metadata": {
    "colab": {
     "base_uri": "https://localhost:8080/"
    },
    "execution": {
     "iopub.execute_input": "2022-01-13T10:52:12.588948Z",
     "iopub.status.busy": "2022-01-13T10:52:12.583820Z",
     "iopub.status.idle": "2022-01-13T10:52:12.592196Z",
     "shell.execute_reply": "2022-01-13T10:52:12.592655Z",
     "shell.execute_reply.started": "2022-01-13T10:46:10.679011Z"
    },
    "id": "fbdb3c35",
    "outputId": "3e1800f1-3395-49d1-81cc-24a63fedfe4f",
    "papermill": {
     "duration": 0.049901,
     "end_time": "2022-01-13T10:52:12.592847",
     "exception": false,
     "start_time": "2022-01-13T10:52:12.542946",
     "status": "completed"
    },
    "tags": []
   },
   "outputs": [
    {
     "data": {
      "text/plain": [
       "User ID            0\n",
       "Gender             0\n",
       "Age                0\n",
       "EstimatedSalary    0\n",
       "Purchased          0\n",
       "dtype: int64"
      ]
     },
     "execution_count": 8,
     "metadata": {},
     "output_type": "execute_result"
    }
   ],
   "source": [
    "data.isnull().sum()"
   ]
  },
  {
   "cell_type": "markdown",
   "id": "cf2d45da",
   "metadata": {
    "id": "cf2d45da",
    "papermill": {
     "duration": 0.037179,
     "end_time": "2022-01-13T10:52:12.667274",
     "exception": false,
     "start_time": "2022-01-13T10:52:12.630095",
     "status": "completed"
    },
    "tags": []
   },
   "source": [
    "#### There are no missing values."
   ]
  },
  {
   "cell_type": "markdown",
   "id": "C0ml3_6m4qBn",
   "metadata": {
    "id": "C0ml3_6m4qBn"
   },
   "source": [
    " # 5. Data Visualization"
   ]
  },
  {
   "cell_type": "code",
   "execution_count": 42,
   "id": "yO4Br8WZ5e_w",
   "metadata": {
    "colab": {
     "base_uri": "https://localhost:8080/",
     "height": 317
    },
    "id": "yO4Br8WZ5e_w",
    "outputId": "58d5f579-1902-4cc3-87c5-92624bb33923"
   },
   "outputs": [
    {
     "name": "stdout",
     "output_type": "stream",
     "text": [
      "Female    204\n",
      "Male      196\n",
      "Name: Gender, dtype: int64\n"
     ]
    },
    {
     "data": {
      "text/plain": [
       "<matplotlib.axes._subplots.AxesSubplot at 0x7fd9f29601d0>"
      ]
     },
     "execution_count": 42,
     "metadata": {},
     "output_type": "execute_result"
    },
    {
     "data": {
      "image/png": "[encoded data removed]",
      "text/plain": [
       "<Figure size 432x288 with 1 Axes>"
      ]
     },
     "metadata": {},
     "output_type": "display_data"
    }
   ],
   "source": [
    "print(data['Gender'].value_counts())\n",
    "data['Gender'].value_counts().plot.pie()"
   ]
  },
  {
   "cell_type": "markdown",
   "id": "QFiO93Ox_2QY",
   "metadata": {
    "id": "QFiO93Ox_2QY"
   },
   "source": [
    "From above diagram, we can see that there are more Female user than the male user."
   ]
  },
  {
   "cell_type": "code",
   "execution_count": 45,
   "id": "pV_hHr0J5l01",
   "metadata": {
    "colab": {
     "base_uri": "https://localhost:8080/",
     "height": 317
    },
    "id": "pV_hHr0J5l01",
    "outputId": "62d59227-f082-492a-8a37-abeacf91eba2"
   },
   "outputs": [
    {
     "name": "stdout",
     "output_type": "stream",
     "text": [
      "0    257\n",
      "1    143\n",
      "Name: Purchased, dtype: int64\n"
     ]
    },
    {
     "data": {
      "text/plain": [
       "<matplotlib.axes._subplots.AxesSubplot at 0x7fd9f23be8d0>"
      ]
     },
     "execution_count": 45,
     "metadata": {},
     "output_type": "execute_result"
    },
    {
     "data": {
      "image/png": "[encoded data removed]",
      "text/plain": [
       "<Figure size 432x288 with 1 Axes>"
      ]
     },
     "metadata": {},
     "output_type": "display_data"
    }
   ],
   "source": [
    "print(data['Purchased'].value_counts())\n",
    "data['Purchased'].value_counts().plot.pie()"
   ]
  },
  {
   "cell_type": "markdown",
   "id": "7-bw_Fz8ABMh",
   "metadata": {
    "id": "7-bw_Fz8ABMh"
   },
   "source": [
    "From the above diagram, we can see that there are less purchases "
   ]
  },
  {
   "cell_type": "code",
   "execution_count": 50,
   "id": "QGMqCmHT5vXC",
   "metadata": {
    "colab": {
     "base_uri": "https://localhost:8080/",
     "height": 475
    },
    "id": "QGMqCmHT5vXC",
    "outputId": "f5416e3a-413c-4fcf-f5fb-14e0ddbb9c15"
   },
   "outputs": [
    {
     "name": "stdout",
     "output_type": "stream",
     "text": [
      "Gender     Female  Male\n",
      "Purchased              \n",
      "0             127   130\n",
      "1              77    66\n"
     ]
    },
    {
     "data": {
      "text/html": [
       "<style type=\"text/css\">\n",
       "#T_17e73_row0_col0, #T_17e73_row0_col1, #T_17e73_row1_col0, #T_17e73_row1_col1 {\n",
       "  background-color: #f7fbff;\n",
       "  color: #000000;\n",
       "}\n",
       "</style>\n",
       "<table id=\"T_17e73_\" class=\"dataframe\">\n",
       "  <thead>\n",
       "    <tr>\n",
       "      <th class=\"index_name level0\" >Gender</th>\n",
       "      <th class=\"col_heading level0 col0\" >Female</th>\n",
       "      <th class=\"col_heading level0 col1\" >Male</th>\n",
       "    </tr>\n",
       "    <tr>\n",
       "      <th class=\"index_name level0\" >Gender</th>\n",
       "      <th class=\"blank col0\" >&nbsp;</th>\n",
       "      <th class=\"blank col1\" >&nbsp;</th>\n",
       "    </tr>\n",
       "  </thead>\n",
       "  <tbody>\n",
       "    <tr>\n",
       "      <th id=\"T_17e73_level0_row0\" class=\"row_heading level0 row0\" >Female</th>\n",
       "      <td id=\"T_17e73_row0_col0\" class=\"data row0 col0\" >1.000000</td>\n",
       "      <td id=\"T_17e73_row0_col1\" class=\"data row0 col1\" >1.000000</td>\n",
       "    </tr>\n",
       "    <tr>\n",
       "      <th id=\"T_17e73_level0_row1\" class=\"row_heading level0 row1\" >Male</th>\n",
       "      <td id=\"T_17e73_row1_col0\" class=\"data row1 col0\" >1.000000</td>\n",
       "      <td id=\"T_17e73_row1_col1\" class=\"data row1 col1\" >1.000000</td>\n",
       "    </tr>\n",
       "  </tbody>\n",
       "</table>\n"
      ],
      "text/plain": [
       "<pandas.io.formats.style.Styler at 0x7fd9f0828050>"
      ]
     },
     "execution_count": 50,
     "metadata": {},
     "output_type": "execute_result"
    },
    {
     "data": {
      "image/png": "[encoded data removed]",
      "text/plain": [
       "<Figure size 432x288 with 1 Axes>"
      ]
     },
     "metadata": {},
     "output_type": "display_data"
    }
   ],
   "source": [
    "sizeprice = pd.crosstab(index = data['Purchased'], columns = data['Gender'])\n",
    "print(sizeprice)\n",
    "sizeprice.plot.line();\n",
    "corr = sizeprice.corr() \n",
    "corr.style.background_gradient(cmap='Blues')"
   ]
  },
  {
   "cell_type": "code",
   "execution_count": 64,
   "id": "Au33A9wz7Kxi",
   "metadata": {
    "colab": {
     "base_uri": "https://localhost:8080/",
     "height": 444
    },
    "id": "Au33A9wz7Kxi",
    "outputId": "0f2a4022-a95b-4a88-dd1f-fd3a2f3f6ea1"
   },
   "outputs": [
    {
     "data": {
      "image/png": "[encoded data removed]",
      "text/plain": [
       "<Figure size 1224x504 with 2 Axes>"
      ]
     },
     "metadata": {},
     "output_type": "display_data"
    }
   ],
   "source": [
    "f, (ax1, ax2) = plt.subplots(1, 2, figsize=(17,7))\n",
    "\n",
    "ax1.pie(x=data['Purchased'].value_counts(), labels=data['Purchased'].value_counts().index.map({0:'Not Purchased ', 1:'Purchased'}), autopct='%1.1f%%')\n",
    "ax1.legend(\n",
    "    title='Status',\n",
    "    loc = 'lower right')\n",
    "ax1.set_title('Distribution of Purchasess')\n",
    "\n",
    "plots = sns.barplot(x=data['Purchased'].value_counts().index.map({0:'Not Purchased', 1:'Purchased'}), y=data['Purchased'].value_counts(), ax=ax2)\n",
    "for bar in plots.patches:\n",
    "    plots.annotate(format(bar.get_height(), '.0f'), (bar.get_x() + bar.get_width() / 2, bar.get_height()), ha='center', va='center', xytext=(0, 8), textcoords='offset points')\n",
    "ax2.set_ylabel('User')\n",
    "ax2.set_title('Total Purchased')\n",
    "\n",
    "plt.show()"
   ]
  },
  {
   "cell_type": "markdown",
   "id": "2j4se5Rn_JpE",
   "metadata": {
    "id": "2j4se5Rn_JpE"
   },
   "source": [
    "We can see that, there are more number of user who do not buy product than the user who buys.\n",
    "\n",
    "\n"
   ]
  },
  {
   "cell_type": "code",
   "execution_count": 62,
   "id": "hS9AN3BJ8cIZ",
   "metadata": {
    "colab": {
     "base_uri": "https://localhost:8080/",
     "height": 295
    },
    "id": "hS9AN3BJ8cIZ",
    "outputId": "5cff077f-c834-4503-d8c8-c6b827672e77"
   },
   "outputs": [
    {
     "data": {
      "image/png": "[encoded data removed]",
      "text/plain": [
       "<Figure size 432x288 with 1 Axes>"
      ]
     },
     "metadata": {},
     "output_type": "display_data"
    }
   ],
   "source": [
    "data_Purchased= data[data['Purchased'] == 1].reset_index(drop=True)\n",
    "\n",
    "sns.histplot(data_Purchased['Age'], bins=4)\n",
    "plt.xlabel('Age')\n",
    "plt.ylabel('Total User')\n",
    "plt.title('Distribution of Purchases based on Age')\n",
    "plt.show()"
   ]
  },
  {
   "cell_type": "markdown",
   "id": "SJcwr-zi-k05",
   "metadata": {
    "id": "SJcwr-zi-k05"
   },
   "source": [
    "The observations from above diagram are:\n",
    "\n",
    "1.   The users between the age 45 to 50 Purchases more\n",
    "2.   The users between the age 20 to 35 purchases less\n",
    "\n"
   ]
  },
  {
   "cell_type": "code",
   "execution_count": 9,
   "id": "32cbd2f1",
   "metadata": {
    "colab": {
     "base_uri": "https://localhost:8080/"
    },
    "execution": {
     "iopub.execute_input": "2022-01-13T10:52:12.821357Z",
     "iopub.status.busy": "2022-01-13T10:52:12.820324Z",
     "iopub.status.idle": "2022-01-13T10:52:12.826132Z",
     "shell.execute_reply": "2022-01-13T10:52:12.826563Z",
     "shell.execute_reply.started": "2022-01-13T10:46:10.695326Z"
    },
    "id": "32cbd2f1",
    "outputId": "e9b072c4-f7d8-473a-ae50-669cff20ebac",
    "papermill": {
     "duration": 0.046382,
     "end_time": "2022-01-13T10:52:12.826763",
     "exception": false,
     "start_time": "2022-01-13T10:52:12.780381",
     "status": "completed"
    },
    "tags": []
   },
   "outputs": [
    {
     "data": {
      "text/plain": [
       "array([0, 1])"
      ]
     },
     "execution_count": 9,
     "metadata": {},
     "output_type": "execute_result"
    }
   ],
   "source": [
    "#Checking unique values in the target variable\n",
    "data['Purchased'].unique()"
   ]
  },
  {
   "cell_type": "markdown",
   "id": "eff02f48",
   "metadata": {
    "id": "eff02f48",
    "papermill": {
     "duration": 0.03709,
     "end_time": "2022-01-13T10:52:12.900750",
     "exception": false,
     "start_time": "2022-01-13T10:52:12.863660",
     "status": "completed"
    },
    "tags": []
   },
   "source": [
    "# 6. Convert the categorical variable to numeric\n",
    "\n",
    "#### The variable 'Purchased' has categorical data. So we will convert into numeric type."
   ]
  },
  {
   "cell_type": "code",
   "execution_count": 10,
   "id": "76150cfe",
   "metadata": {
    "colab": {
     "base_uri": "https://localhost:8080/",
     "height": 424
    },
    "execution": {
     "iopub.execute_input": "2022-01-13T10:52:12.979855Z",
     "iopub.status.busy": "2022-01-13T10:52:12.978842Z",
     "iopub.status.idle": "2022-01-13T10:52:12.997074Z",
     "shell.execute_reply": "2022-01-13T10:52:12.997523Z",
     "shell.execute_reply.started": "2022-01-13T10:46:10.709557Z"
    },
    "id": "76150cfe",
    "outputId": "e2638db7-1a64-4a50-9a29-a04eb978675f",
    "papermill": {
     "duration": 0.059191,
     "end_time": "2022-01-13T10:52:12.997723",
     "exception": false,
     "start_time": "2022-01-13T10:52:12.938532",
     "status": "completed"
    },
    "tags": []
   },
   "outputs": [
    {
     "data": {
      "text/html": [
       "\n",
       "  <div id=\"df-066fa96a-bca7-4be7-8fbb-e61633d60b4b\">\n",
       "    <div class=\"colab-df-container\">\n",
       "      <div>\n",
       "<style scoped>\n",
       "    .dataframe tbody tr th:only-of-type {\n",
       "        vertical-align: middle;\n",
       "    }\n",
       "\n",
       "    .dataframe tbody tr th {\n",
       "        vertical-align: top;\n",
       "    }\n",
       "\n",
       "    .dataframe thead th {\n",
       "        text-align: right;\n",
       "    }\n",
       "</style>\n",
       "<table border=\"1\" class=\"dataframe\">\n",
       "  <thead>\n",
       "    <tr style=\"text-align: right;\">\n",
       "      <th></th>\n",
       "      <th>User ID</th>\n",
       "      <th>Age</th>\n",
       "      <th>EstimatedSalary</th>\n",
       "      <th>Purchased</th>\n",
       "      <th>Female</th>\n",
       "      <th>Male</th>\n",
       "    </tr>\n",
       "  </thead>\n",
       "  <tbody>\n",
       "    <tr>\n",
       "      <th>0</th>\n",
       "      <td>15624510</td>\n",
       "      <td>19</td>\n",
       "      <td>19000</td>\n",
       "      <td>0</td>\n",
       "      <td>0</td>\n",
       "      <td>1</td>\n",
       "    </tr>\n",
       "    <tr>\n",
       "      <th>1</th>\n",
       "      <td>15810944</td>\n",
       "      <td>35</td>\n",
       "      <td>20000</td>\n",
       "      <td>0</td>\n",
       "      <td>0</td>\n",
       "      <td>1</td>\n",
       "    </tr>\n",
       "    <tr>\n",
       "      <th>2</th>\n",
       "      <td>15668575</td>\n",
       "      <td>26</td>\n",
       "      <td>43000</td>\n",
       "      <td>0</td>\n",
       "      <td>1</td>\n",
       "      <td>0</td>\n",
       "    </tr>\n",
       "    <tr>\n",
       "      <th>3</th>\n",
       "      <td>15603246</td>\n",
       "      <td>27</td>\n",
       "      <td>57000</td>\n",
       "      <td>0</td>\n",
       "      <td>1</td>\n",
       "      <td>0</td>\n",
       "    </tr>\n",
       "    <tr>\n",
       "      <th>4</th>\n",
       "      <td>15804002</td>\n",
       "      <td>19</td>\n",
       "      <td>76000</td>\n",
       "      <td>0</td>\n",
       "      <td>0</td>\n",
       "      <td>1</td>\n",
       "    </tr>\n",
       "    <tr>\n",
       "      <th>...</th>\n",
       "      <td>...</td>\n",
       "      <td>...</td>\n",
       "      <td>...</td>\n",
       "      <td>...</td>\n",
       "      <td>...</td>\n",
       "      <td>...</td>\n",
       "    </tr>\n",
       "    <tr>\n",
       "      <th>395</th>\n",
       "      <td>15691863</td>\n",
       "      <td>46</td>\n",
       "      <td>41000</td>\n",
       "      <td>1</td>\n",
       "      <td>1</td>\n",
       "      <td>0</td>\n",
       "    </tr>\n",
       "    <tr>\n",
       "      <th>396</th>\n",
       "      <td>15706071</td>\n",
       "      <td>51</td>\n",
       "      <td>23000</td>\n",
       "      <td>1</td>\n",
       "      <td>0</td>\n",
       "      <td>1</td>\n",
       "    </tr>\n",
       "    <tr>\n",
       "      <th>397</th>\n",
       "      <td>15654296</td>\n",
       "      <td>50</td>\n",
       "      <td>20000</td>\n",
       "      <td>1</td>\n",
       "      <td>1</td>\n",
       "      <td>0</td>\n",
       "    </tr>\n",
       "    <tr>\n",
       "      <th>398</th>\n",
       "      <td>15755018</td>\n",
       "      <td>36</td>\n",
       "      <td>33000</td>\n",
       "      <td>0</td>\n",
       "      <td>0</td>\n",
       "      <td>1</td>\n",
       "    </tr>\n",
       "    <tr>\n",
       "      <th>399</th>\n",
       "      <td>15594041</td>\n",
       "      <td>49</td>\n",
       "      <td>36000</td>\n",
       "      <td>1</td>\n",
       "      <td>1</td>\n",
       "      <td>0</td>\n",
       "    </tr>\n",
       "  </tbody>\n",
       "</table>\n",
       "<p>400 rows × 6 columns</p>\n",
       "</div>\n",
       "      <button class=\"colab-df-convert\" onclick=\"convertToInteractive('df-066fa96a-bca7-4be7-8fbb-e61633d60b4b')\"\n",
       "              title=\"Convert this dataframe to an interactive table.\"\n",
       "              style=\"display:none;\">\n",
       "        \n",
       "  <svg xmlns=\"http://www.w3.org/2000/svg\" height=\"24px\"viewBox=\"0 0 24 24\"\n",
       "       width=\"24px\">\n",
       "    <path d=\"M0 0h24v24H0V0z\" fill=\"none\"/>\n",
       "    <path d=\"M18.56 5.44l.94 2.06.94-2.06 2.06-.94-2.06-.94-.94-2.06-.94 2.06-2.06.94zm-11 1L8.5 8.5l.94-2.06 2.06-.94-2.06-.94L8.5 2.5l-.94 2.06-2.06.94zm10 10l.94 2.06.94-2.06 2.06-.94-2.06-.94-.94-2.06-.94 2.06-2.06.94z\"/><path d=\"M17.41 7.96l-1.37-1.37c-.4-.4-.92-.59-1.43-.59-.52 0-1.04.2-1.43.59L10.3 9.45l-7.72 7.72c-.78.78-.78 2.05 0 2.83L4 21.41c.39.39.9.59 1.41.59.51 0 1.02-.2 1.41-.59l7.78-7.78 2.81-2.81c.8-.78.8-2.07 0-2.86zM5.41 20L4 18.59l7.72-7.72 1.47 1.35L5.41 20z\"/>\n",
       "  </svg>\n",
       "      </button>\n",
       "      \n",
       "  <style>\n",
       "    .colab-df-container {\n",
       "      display:flex;\n",
       "      flex-wrap:wrap;\n",
       "      gap: 12px;\n",
       "    }\n",
       "\n",
       "    .colab-df-convert {\n",
       "      background-color: #E8F0FE;\n",
       "      border: none;\n",
       "      border-radius: 50%;\n",
       "      cursor: pointer;\n",
       "      display: none;\n",
       "      fill: #1967D2;\n",
       "      height: 32px;\n",
       "      padding: 0 0 0 0;\n",
       "      width: 32px;\n",
       "    }\n",
       "\n",
       "    .colab-df-convert:hover {\n",
       "      background-color: #E2EBFA;\n",
       "      box-shadow: 0px 1px 2px rgba(60, 64, 67, 0.3), 0px 1px 3px 1px rgba(60, 64, 67, 0.15);\n",
       "      fill: #174EA6;\n",
       "    }\n",
       "\n",
       "    [theme=dark] .colab-df-convert {\n",
       "      background-color: #3B4455;\n",
       "      fill: #D2E3FC;\n",
       "    }\n",
       "\n",
       "    [theme=dark] .colab-df-convert:hover {\n",
       "      background-color: #434B5C;\n",
       "      box-shadow: 0px 1px 3px 1px rgba(0, 0, 0, 0.15);\n",
       "      filter: drop-shadow(0px 1px 2px rgba(0, 0, 0, 0.3));\n",
       "      fill: #FFFFFF;\n",
       "    }\n",
       "  </style>\n",
       "\n",
       "      <script>\n",
       "        const buttonEl =\n",
       "          document.querySelector('#df-066fa96a-bca7-4be7-8fbb-e61633d60b4b button.colab-df-convert');\n",
       "        buttonEl.style.display =\n",
       "          google.colab.kernel.accessAllowed ? 'block' : 'none';\n",
       "\n",
       "        async function convertToInteractive(key) {\n",
       "          const element = document.querySelector('#df-066fa96a-bca7-4be7-8fbb-e61633d60b4b');\n",
       "          const dataTable =\n",
       "            await google.colab.kernel.invokeFunction('convertToInteractive',\n",
       "                                                     [key], {});\n",
       "          if (!dataTable) return;\n",
       "\n",
       "          const docLinkHtml = 'Like what you see? Visit the ' +\n",
       "            '<a target=\"_blank\" href=https://colab.research.google.com/notebooks/data_table.ipynb>data table notebook</a>'\n",
       "            + ' to learn more about interactive tables.';\n",
       "          element.innerHTML = '';\n",
       "          dataTable['output_type'] = 'display_data';\n",
       "          await google.colab.output.renderOutput(dataTable, element);\n",
       "          const docLink = document.createElement('div');\n",
       "          docLink.innerHTML = docLinkHtml;\n",
       "          element.appendChild(docLink);\n",
       "        }\n",
       "      </script>\n",
       "    </div>\n",
       "  </div>\n",
       "  "
      ],
      "text/plain": [
       "      User ID  Age  EstimatedSalary  Purchased  Female  Male\n",
       "0    15624510   19            19000          0       0     1\n",
       "1    15810944   35            20000          0       0     1\n",
       "2    15668575   26            43000          0       1     0\n",
       "3    15603246   27            57000          0       1     0\n",
       "4    15804002   19            76000          0       0     1\n",
       "..        ...  ...              ...        ...     ...   ...\n",
       "395  15691863   46            41000          1       1     0\n",
       "396  15706071   51            23000          1       0     1\n",
       "397  15654296   50            20000          1       1     0\n",
       "398  15755018   36            33000          0       0     1\n",
       "399  15594041   49            36000          1       1     0\n",
       "\n",
       "[400 rows x 6 columns]"
      ]
     },
     "execution_count": 10,
     "metadata": {},
     "output_type": "execute_result"
    }
   ],
   "source": [
    "dummies = pd.get_dummies(data['Gender'])\n",
    "merged = pd.concat([data,dummies], axis='columns')\n",
    "final_data = merged.drop(['Gender'], axis='columns')\n",
    "final_data"
   ]
  },
  {
   "cell_type": "code",
   "execution_count": 11,
   "id": "187a1879",
   "metadata": {
    "colab": {
     "base_uri": "https://localhost:8080/"
    },
    "execution": {
     "iopub.execute_input": "2022-01-13T10:52:13.078469Z",
     "iopub.status.busy": "2022-01-13T10:52:13.077403Z",
     "iopub.status.idle": "2022-01-13T10:52:13.091013Z",
     "shell.execute_reply": "2022-01-13T10:52:13.091516Z",
     "shell.execute_reply.started": "2022-01-13T10:46:10.736480Z"
    },
    "id": "187a1879",
    "outputId": "ca23ad89-7899-47a1-ab34-8e80095478d6",
    "papermill": {
     "duration": 0.056397,
     "end_time": "2022-01-13T10:52:13.091714",
     "exception": false,
     "start_time": "2022-01-13T10:52:13.035317",
     "status": "completed"
    },
    "tags": []
   },
   "outputs": [
    {
     "name": "stdout",
     "output_type": "stream",
     "text": [
      "<class 'pandas.core.frame.DataFrame'>\n",
      "RangeIndex: 400 entries, 0 to 399\n",
      "Data columns (total 6 columns):\n",
      " #   Column           Non-Null Count  Dtype\n",
      "---  ------           --------------  -----\n",
      " 0   User ID          400 non-null    int64\n",
      " 1   Age              400 non-null    int64\n",
      " 2   EstimatedSalary  400 non-null    int64\n",
      " 3   Purchased        400 non-null    int64\n",
      " 4   Female           400 non-null    uint8\n",
      " 5   Male             400 non-null    uint8\n",
      "dtypes: int64(4), uint8(2)\n",
      "memory usage: 13.4 KB\n"
     ]
    }
   ],
   "source": [
    "final_data.info()"
   ]
  },
  {
   "cell_type": "code",
   "execution_count": 12,
   "id": "b65b220d",
   "metadata": {
    "colab": {
     "base_uri": "https://localhost:8080/",
     "height": 143
    },
    "execution": {
     "iopub.execute_input": "2022-01-13T10:52:13.257667Z",
     "iopub.status.busy": "2022-01-13T10:52:13.256822Z",
     "iopub.status.idle": "2022-01-13T10:52:13.260088Z",
     "shell.execute_reply": "2022-01-13T10:52:13.260526Z",
     "shell.execute_reply.started": "2022-01-13T10:46:10.751812Z"
    },
    "id": "b65b220d",
    "outputId": "554a5d0a-b599-4635-bdc0-0de0183e731d",
    "papermill": {
     "duration": 0.05359,
     "end_time": "2022-01-13T10:52:13.260737",
     "exception": false,
     "start_time": "2022-01-13T10:52:13.207147",
     "status": "completed"
    },
    "tags": []
   },
   "outputs": [
    {
     "data": {
      "text/html": [
       "\n",
       "  <div id=\"df-598547c8-f132-4223-a49a-9b021800e15d\">\n",
       "    <div class=\"colab-df-container\">\n",
       "      <div>\n",
       "<style scoped>\n",
       "    .dataframe tbody tr th:only-of-type {\n",
       "        vertical-align: middle;\n",
       "    }\n",
       "\n",
       "    .dataframe tbody tr th {\n",
       "        vertical-align: top;\n",
       "    }\n",
       "\n",
       "    .dataframe thead th {\n",
       "        text-align: right;\n",
       "    }\n",
       "</style>\n",
       "<table border=\"1\" class=\"dataframe\">\n",
       "  <thead>\n",
       "    <tr style=\"text-align: right;\">\n",
       "      <th></th>\n",
       "      <th>User ID</th>\n",
       "      <th>Age</th>\n",
       "      <th>EstimatedSalary</th>\n",
       "      <th>Female</th>\n",
       "      <th>Male</th>\n",
       "    </tr>\n",
       "    <tr>\n",
       "      <th>Purchased</th>\n",
       "      <th></th>\n",
       "      <th></th>\n",
       "      <th></th>\n",
       "      <th></th>\n",
       "      <th></th>\n",
       "    </tr>\n",
       "  </thead>\n",
       "  <tbody>\n",
       "    <tr>\n",
       "      <th>0</th>\n",
       "      <td>257</td>\n",
       "      <td>257</td>\n",
       "      <td>257</td>\n",
       "      <td>257</td>\n",
       "      <td>257</td>\n",
       "    </tr>\n",
       "    <tr>\n",
       "      <th>1</th>\n",
       "      <td>143</td>\n",
       "      <td>143</td>\n",
       "      <td>143</td>\n",
       "      <td>143</td>\n",
       "      <td>143</td>\n",
       "    </tr>\n",
       "  </tbody>\n",
       "</table>\n",
       "</div>\n",
       "      <button class=\"colab-df-convert\" onclick=\"convertToInteractive('df-598547c8-f132-4223-a49a-9b021800e15d')\"\n",
       "              title=\"Convert this dataframe to an interactive table.\"\n",
       "              style=\"display:none;\">\n",
       "        \n",
       "  <svg xmlns=\"http://www.w3.org/2000/svg\" height=\"24px\"viewBox=\"0 0 24 24\"\n",
       "       width=\"24px\">\n",
       "    <path d=\"M0 0h24v24H0V0z\" fill=\"none\"/>\n",
       "    <path d=\"M18.56 5.44l.94 2.06.94-2.06 2.06-.94-2.06-.94-.94-2.06-.94 2.06-2.06.94zm-11 1L8.5 8.5l.94-2.06 2.06-.94-2.06-.94L8.5 2.5l-.94 2.06-2.06.94zm10 10l.94 2.06.94-2.06 2.06-.94-2.06-.94-.94-2.06-.94 2.06-2.06.94z\"/><path d=\"M17.41 7.96l-1.37-1.37c-.4-.4-.92-.59-1.43-.59-.52 0-1.04.2-1.43.59L10.3 9.45l-7.72 7.72c-.78.78-.78 2.05 0 2.83L4 21.41c.39.39.9.59 1.41.59.51 0 1.02-.2 1.41-.59l7.78-7.78 2.81-2.81c.8-.78.8-2.07 0-2.86zM5.41 20L4 18.59l7.72-7.72 1.47 1.35L5.41 20z\"/>\n",
       "  </svg>\n",
       "      </button>\n",
       "      \n",
       "  <style>\n",
       "    .colab-df-container {\n",
       "      display:flex;\n",
       "      flex-wrap:wrap;\n",
       "      gap: 12px;\n",
       "    }\n",
       "\n",
       "    .colab-df-convert {\n",
       "      background-color: #E8F0FE;\n",
       "      border: none;\n",
       "      border-radius: 50%;\n",
       "      cursor: pointer;\n",
       "      display: none;\n",
       "      fill: #1967D2;\n",
       "      height: 32px;\n",
       "      padding: 0 0 0 0;\n",
       "      width: 32px;\n",
       "    }\n",
       "\n",
       "    .colab-df-convert:hover {\n",
       "      background-color: #E2EBFA;\n",
       "      box-shadow: 0px 1px 2px rgba(60, 64, 67, 0.3), 0px 1px 3px 1px rgba(60, 64, 67, 0.15);\n",
       "      fill: #174EA6;\n",
       "    }\n",
       "\n",
       "    [theme=dark] .colab-df-convert {\n",
       "      background-color: #3B4455;\n",
       "      fill: #D2E3FC;\n",
       "    }\n",
       "\n",
       "    [theme=dark] .colab-df-convert:hover {\n",
       "      background-color: #434B5C;\n",
       "      box-shadow: 0px 1px 3px 1px rgba(0, 0, 0, 0.15);\n",
       "      filter: drop-shadow(0px 1px 2px rgba(0, 0, 0, 0.3));\n",
       "      fill: #FFFFFF;\n",
       "    }\n",
       "  </style>\n",
       "\n",
       "      <script>\n",
       "        const buttonEl =\n",
       "          document.querySelector('#df-598547c8-f132-4223-a49a-9b021800e15d button.colab-df-convert');\n",
       "        buttonEl.style.display =\n",
       "          google.colab.kernel.accessAllowed ? 'block' : 'none';\n",
       "\n",
       "        async function convertToInteractive(key) {\n",
       "          const element = document.querySelector('#df-598547c8-f132-4223-a49a-9b021800e15d');\n",
       "          const dataTable =\n",
       "            await google.colab.kernel.invokeFunction('convertToInteractive',\n",
       "                                                     [key], {});\n",
       "          if (!dataTable) return;\n",
       "\n",
       "          const docLinkHtml = 'Like what you see? Visit the ' +\n",
       "            '<a target=\"_blank\" href=https://colab.research.google.com/notebooks/data_table.ipynb>data table notebook</a>'\n",
       "            + ' to learn more about interactive tables.';\n",
       "          element.innerHTML = '';\n",
       "          dataTable['output_type'] = 'display_data';\n",
       "          await google.colab.output.renderOutput(dataTable, element);\n",
       "          const docLink = document.createElement('div');\n",
       "          docLink.innerHTML = docLinkHtml;\n",
       "          element.appendChild(docLink);\n",
       "        }\n",
       "      </script>\n",
       "    </div>\n",
       "  </div>\n",
       "  "
      ],
      "text/plain": [
       "           User ID  Age  EstimatedSalary  Female  Male\n",
       "Purchased                                             \n",
       "0              257  257              257     257   257\n",
       "1              143  143              143     143   143"
      ]
     },
     "execution_count": 12,
     "metadata": {},
     "output_type": "execute_result"
    }
   ],
   "source": [
    "# Size of the Classes\n",
    "final_data.groupby(['Purchased']).count()"
   ]
  },
  {
   "cell_type": "markdown",
   "id": "9f5cca2d",
   "metadata": {
    "id": "9f5cca2d",
    "papermill": {
     "duration": 0.038937,
     "end_time": "2022-01-13T10:52:13.339161",
     "exception": false,
     "start_time": "2022-01-13T10:52:13.300224",
     "status": "completed"
    },
    "tags": []
   },
   "source": [
    "#### From the above, we found that our classes are not of equal size or we have a class imbalance."
   ]
  },
  {
   "cell_type": "markdown",
   "id": "715ef001",
   "metadata": {
    "id": "715ef001",
    "papermill": {
     "duration": 0.038341,
     "end_time": "2022-01-13T10:52:13.416423",
     "exception": false,
     "start_time": "2022-01-13T10:52:13.378082",
     "status": "completed"
    },
    "tags": []
   },
   "source": [
    "# 7. Feature Selection using Correlation Matrix"
   ]
  },
  {
   "cell_type": "code",
   "execution_count": 13,
   "id": "5cf74385",
   "metadata": {
    "colab": {
     "base_uri": "https://localhost:8080/",
     "height": 613
    },
    "execution": {
     "iopub.execute_input": "2022-01-13T10:52:13.500480Z",
     "iopub.status.busy": "2022-01-13T10:52:13.499630Z",
     "iopub.status.idle": "2022-01-13T10:52:13.998118Z",
     "shell.execute_reply": "2022-01-13T10:52:13.998633Z",
     "shell.execute_reply.started": "2022-01-13T10:46:10.766877Z"
    },
    "id": "5cf74385",
    "outputId": "a46cb3d7-07d4-44c3-f57d-b6683cc21a10",
    "papermill": {
     "duration": 0.543498,
     "end_time": "2022-01-13T10:52:13.998822",
     "exception": false,
     "start_time": "2022-01-13T10:52:13.455324",
     "status": "completed"
    },
    "tags": []
   },
   "outputs": [
    {
     "data": {
      "text/plain": [
       "<matplotlib.axes._subplots.AxesSubplot at 0x7fd9fbbf2cd0>"
      ]
     },
     "execution_count": 13,
     "metadata": {},
     "output_type": "execute_result"
    },
    {
     "data": {
      "image/png": "[encoded data removed]",
      "text/plain": [
       "<Figure size 864x720 with 2 Axes>"
      ]
     },
     "metadata": {
      "needs_background": "light"
     },
     "output_type": "display_data"
    }
   ],
   "source": [
    "plt.figure(figsize=(12,10))\n",
    "corr = final_data.corr()\n",
    "sns.heatmap(corr, annot=True, linewidths=1, cmap='coolwarm')"
   ]
  },
  {
   "cell_type": "markdown",
   "id": "9dd088f6",
   "metadata": {
    "id": "9dd088f6",
    "papermill": {
     "duration": 0.040663,
     "end_time": "2022-01-13T10:52:14.080147",
     "exception": false,
     "start_time": "2022-01-13T10:52:14.039484",
     "status": "completed"
    },
    "tags": []
   },
   "source": [
    "#### There is no multicollinearity among the predictor variables as the correlation coefficients are very low.\n",
    "#### The only predictor variable having correlation coefficient>0.5 with target variable is 'Age'. So, the only feature we select is 'Age'."
   ]
  },
  {
   "cell_type": "markdown",
   "id": "7b5b0e32",
   "metadata": {
    "id": "7b5b0e32",
    "papermill": {
     "duration": 0.040328,
     "end_time": "2022-01-13T10:52:14.161302",
     "exception": false,
     "start_time": "2022-01-13T10:52:14.120974",
     "status": "completed"
    },
    "tags": []
   },
   "source": [
    "# 8. Logistic Regression Plot"
   ]
  },
  {
   "cell_type": "code",
   "execution_count": 14,
   "id": "e4785da3",
   "metadata": {
    "colab": {
     "base_uri": "https://localhost:8080/",
     "height": 532
    },
    "execution": {
     "iopub.execute_input": "2022-01-13T10:52:14.247092Z",
     "iopub.status.busy": "2022-01-13T10:52:14.246069Z",
     "iopub.status.idle": "2022-01-13T10:52:18.819092Z",
     "shell.execute_reply": "2022-01-13T10:52:18.818440Z",
     "shell.execute_reply.started": "2022-01-13T10:46:11.335827Z"
    },
    "id": "e4785da3",
    "outputId": "52c83a98-59e7-48c1-c7f5-4b2ca3ddf6cc",
    "papermill": {
     "duration": 4.617536,
     "end_time": "2022-01-13T10:52:18.819245",
     "exception": false,
     "start_time": "2022-01-13T10:52:14.201709",
     "status": "completed"
    },
    "tags": []
   },
   "outputs": [
    {
     "name": "stderr",
     "output_type": "stream",
     "text": [
      "/usr/local/lib/python3.7/dist-packages/statsmodels/tools/_testing.py:19: FutureWarning: pandas.util.testing is deprecated. Use the functions in the public API at pandas.testing instead.\n",
      "  import pandas.util.testing as tm\n"
     ]
    },
    {
     "data": {
      "image/png": "[encoded data removed]",
      "text/plain": [
       "<Figure size 864x576 with 1 Axes>"
      ]
     },
     "metadata": {},
     "output_type": "display_data"
    }
   ],
   "source": [
    "sns.set_style('darkgrid')\n",
    "p = sns.regplot(x='Age', y='Purchased', data=final_data, logistic=True, scatter_kws={\"color\": \"black\"}, line_kws={\"color\": \"red\"})\n",
    "p.figure.set_size_inches(12,8)"
   ]
  },
  {
   "cell_type": "markdown",
   "id": "5597fa80",
   "metadata": {
    "id": "5597fa80",
    "papermill": {
     "duration": 0.041653,
     "end_time": "2022-01-13T10:52:18.904086",
     "exception": false,
     "start_time": "2022-01-13T10:52:18.862433",
     "status": "completed"
    },
    "tags": []
   },
   "source": [
    "# 9. Split the dataset into train and test data"
   ]
  },
  {
   "cell_type": "markdown",
   "id": "Yy1ISZjlpupk",
   "metadata": {
    "id": "Yy1ISZjlpupk"
   },
   "source": [
    "I divided the data into two sets: training and test. The logistic regression model is trained using the training set. The model gains knowledge from the features in the training set. The test set is used to validate the logistic regression model's performance. We forecast the price of the pizza in the test set and compare the predictions to the real values.\n",
    "\n",
    "> \n",
    "\n",
    "\n",
    "We divided the data into two sets, with the training set containing 75% of the data and the test set containing 25% of the data. The train test split module from the scikit-learn package is used."
   ]
  },
  {
   "cell_type": "code",
   "execution_count": 15,
   "id": "9b09e61f",
   "metadata": {
    "colab": {
     "base_uri": "https://localhost:8080/"
    },
    "execution": {
     "iopub.execute_input": "2022-01-13T10:52:18.991446Z",
     "iopub.status.busy": "2022-01-13T10:52:18.990826Z",
     "iopub.status.idle": "2022-01-13T10:52:18.995157Z",
     "shell.execute_reply": "2022-01-13T10:52:18.995664Z",
     "shell.execute_reply.started": "2022-01-13T10:46:16.503884Z"
    },
    "id": "9b09e61f",
    "outputId": "1568914d-177d-428d-d445-4549da6bfcb6",
    "papermill": {
     "duration": 0.049414,
     "end_time": "2022-01-13T10:52:18.995841",
     "exception": false,
     "start_time": "2022-01-13T10:52:18.946427",
     "status": "completed"
    },
    "tags": []
   },
   "outputs": [
    {
     "data": {
      "text/plain": [
       "(400, 6)"
      ]
     },
     "execution_count": 15,
     "metadata": {},
     "output_type": "execute_result"
    }
   ],
   "source": [
    "final_data.shape"
   ]
  },
  {
   "cell_type": "code",
   "execution_count": 16,
   "id": "7f1039d0",
   "metadata": {
    "execution": {
     "iopub.execute_input": "2022-01-13T10:52:19.083341Z",
     "iopub.status.busy": "2022-01-13T10:52:19.082622Z",
     "iopub.status.idle": "2022-01-13T10:52:19.091432Z",
     "shell.execute_reply": "2022-01-13T10:52:19.090918Z",
     "shell.execute_reply.started": "2022-01-13T10:46:16.512261Z"
    },
    "id": "7f1039d0",
    "papermill": {
     "duration": 0.053557,
     "end_time": "2022-01-13T10:52:19.091572",
     "exception": false,
     "start_time": "2022-01-13T10:52:19.038015",
     "status": "completed"
    },
    "tags": []
   },
   "outputs": [],
   "source": [
    "x_train, x_test, y_train, y_test = train_test_split(final_data[['Age']], final_data.Purchased, train_size = 0.75, random_state = 0)"
   ]
  },
  {
   "cell_type": "code",
   "execution_count": 17,
   "id": "72880ff2",
   "metadata": {
    "colab": {
     "base_uri": "https://localhost:8080/"
    },
    "execution": {
     "iopub.execute_input": "2022-01-13T10:52:19.182177Z",
     "iopub.status.busy": "2022-01-13T10:52:19.181195Z",
     "iopub.status.idle": "2022-01-13T10:52:19.186031Z",
     "shell.execute_reply": "2022-01-13T10:52:19.186523Z",
     "shell.execute_reply.started": "2022-01-13T10:46:16.536578Z"
    },
    "id": "72880ff2",
    "outputId": "96d9fbd2-783b-479e-8a40-9bd6309585ae",
    "papermill": {
     "duration": 0.051611,
     "end_time": "2022-01-13T10:52:19.186707",
     "exception": false,
     "start_time": "2022-01-13T10:52:19.135096",
     "status": "completed"
    },
    "tags": []
   },
   "outputs": [
    {
     "data": {
      "text/plain": [
       "(300, 1)"
      ]
     },
     "execution_count": 17,
     "metadata": {},
     "output_type": "execute_result"
    }
   ],
   "source": [
    "x_train.shape"
   ]
  },
  {
   "cell_type": "code",
   "execution_count": 18,
   "id": "db4d96a7",
   "metadata": {
    "colab": {
     "base_uri": "https://localhost:8080/"
    },
    "execution": {
     "iopub.execute_input": "2022-01-13T10:52:19.275390Z",
     "iopub.status.busy": "2022-01-13T10:52:19.274409Z",
     "iopub.status.idle": "2022-01-13T10:52:19.279460Z",
     "shell.execute_reply": "2022-01-13T10:52:19.279918Z",
     "shell.execute_reply.started": "2022-01-13T10:46:16.544760Z"
    },
    "id": "db4d96a7",
    "outputId": "db0fccf0-f731-4505-9a89-5ef03a60f18c",
    "papermill": {
     "duration": 0.051036,
     "end_time": "2022-01-13T10:52:19.280087",
     "exception": false,
     "start_time": "2022-01-13T10:52:19.229051",
     "status": "completed"
    },
    "tags": []
   },
   "outputs": [
    {
     "data": {
      "text/plain": [
       "(100, 1)"
      ]
     },
     "execution_count": 18,
     "metadata": {},
     "output_type": "execute_result"
    }
   ],
   "source": [
    "x_test.shape"
   ]
  },
  {
   "cell_type": "markdown",
   "id": "3d8b5589",
   "metadata": {
    "id": "3d8b5589",
    "papermill": {
     "duration": 0.042387,
     "end_time": "2022-01-13T10:52:19.365147",
     "exception": false,
     "start_time": "2022-01-13T10:52:19.322760",
     "status": "completed"
    },
    "tags": []
   },
   "source": [
    "# 10. Model Initialization"
   ]
  },
  {
   "cell_type": "code",
   "execution_count": 22,
   "id": "3dfa153b",
   "metadata": {
    "colab": {
     "base_uri": "https://localhost:8080/"
    },
    "execution": {
     "iopub.execute_input": "2022-01-13T10:52:19.454652Z",
     "iopub.status.busy": "2022-01-13T10:52:19.453657Z",
     "iopub.status.idle": "2022-01-13T10:52:19.464418Z",
     "shell.execute_reply": "2022-01-13T10:52:19.463880Z",
     "shell.execute_reply.started": "2022-01-13T10:46:16.560520Z"
    },
    "id": "3dfa153b",
    "outputId": "538add93-bfa7-4b79-fbf4-ccd80794e974",
    "papermill": {
     "duration": 0.056618,
     "end_time": "2022-01-13T10:52:19.464555",
     "exception": false,
     "start_time": "2022-01-13T10:52:19.407937",
     "status": "completed"
    },
    "tags": []
   },
   "outputs": [
    {
     "data": {
      "text/plain": [
       "LogisticRegression()"
      ]
     },
     "execution_count": 22,
     "metadata": {},
     "output_type": "execute_result"
    }
   ],
   "source": [
    "#Initialize the Logistic Regression Classifier\n",
    "model = LogisticRegression()  \n",
    "\n",
    "#Train the model using Training Dataset\n",
    "model.fit(x_train,y_train)"
   ]
  },
  {
   "cell_type": "markdown",
   "id": "90886148",
   "metadata": {
    "id": "90886148",
    "papermill": {
     "duration": 0.042555,
     "end_time": "2022-01-13T10:52:19.550193",
     "exception": false,
     "start_time": "2022-01-13T10:52:19.507638",
     "status": "completed"
    },
    "tags": []
   },
   "source": [
    "# 11. Predictions"
   ]
  },
  {
   "cell_type": "code",
   "execution_count": 23,
   "id": "705d8669",
   "metadata": {
    "colab": {
     "base_uri": "https://localhost:8080/"
    },
    "execution": {
     "iopub.execute_input": "2022-01-13T10:52:19.643493Z",
     "iopub.status.busy": "2022-01-13T10:52:19.642831Z",
     "iopub.status.idle": "2022-01-13T10:52:19.645310Z",
     "shell.execute_reply": "2022-01-13T10:52:19.645796Z",
     "shell.execute_reply.started": "2022-01-13T10:46:16.578467Z"
    },
    "id": "705d8669",
    "outputId": "bd1d285a-234d-4fe1-cd81-691468706205",
    "papermill": {
     "duration": 0.052683,
     "end_time": "2022-01-13T10:52:19.645961",
     "exception": false,
     "start_time": "2022-01-13T10:52:19.593278",
     "status": "completed"
    },
    "tags": []
   },
   "outputs": [
    {
     "name": "stdout",
     "output_type": "stream",
     "text": [
      "The Predicted values are:  [0 0 0 0 0 0 0 0 0 1 0 0 0 0 0 0 0 0 1 0 0 1 0 1 0 1 0 0 0 0 0 0 1 0 0 0 0\n",
      " 0 0 1 0 0 0 0 1 0 0 1 0 1 1 0 0 0 1 1 0 0 1 0 0 1 0 0 0 1 0 0 0 0 0 0 0 1\n",
      " 0 0 0 0 1 1 1 1 0 0 1 0 0 1 1 0 0 0 0 0 0 0 0 1 1 0]\n"
     ]
    }
   ],
   "source": [
    "# Prediction using test data\n",
    "y_predicted = model.predict(x_test)\n",
    "print('The Predicted values are: ', y_predicted)"
   ]
  },
  {
   "cell_type": "markdown",
   "id": "88f2631f",
   "metadata": {
    "id": "88f2631f",
    "papermill": {
     "duration": 0.046264,
     "end_time": "2022-01-13T10:52:19.864875",
     "exception": false,
     "start_time": "2022-01-13T10:52:19.818611",
     "status": "completed"
    },
    "tags": []
   },
   "source": [
    "# 12. Model Evaluation"
   ]
  },
  {
   "cell_type": "markdown",
   "id": "a58ccfe1",
   "metadata": {
    "id": "a58ccfe1",
    "papermill": {
     "duration": 0.044195,
     "end_time": "2022-01-13T10:52:19.954350",
     "exception": false,
     "start_time": "2022-01-13T10:52:19.910155",
     "status": "completed"
    },
    "tags": []
   },
   "source": [
    "## 12.1 Confusion Matrix for a binary classifier"
   ]
  },
  {
   "cell_type": "markdown",
   "id": "a82abe03",
   "metadata": {
    "id": "a82abe03",
    "papermill": {
     "duration": 0.044425,
     "end_time": "2022-01-13T10:52:20.042876",
     "exception": false,
     "start_time": "2022-01-13T10:52:19.998451",
     "status": "completed"
    },
    "tags": []
   },
   "source": [
    " #### It is a summary of prediction results on a classification problem.\n",
    " #### The number of correct and incorrect predictions are summarized with count values and broken down by each class. This is the key to the confusion matrix.\n"
   ]
  },
  {
   "cell_type": "code",
   "execution_count": 25,
   "id": "2903aec0",
   "metadata": {
    "colab": {
     "base_uri": "https://localhost:8080/"
    },
    "execution": {
     "iopub.execute_input": "2022-01-13T10:52:20.134761Z",
     "iopub.status.busy": "2022-01-13T10:52:20.133743Z",
     "iopub.status.idle": "2022-01-13T10:52:20.143756Z",
     "shell.execute_reply": "2022-01-13T10:52:20.143234Z",
     "shell.execute_reply.started": "2022-01-13T10:46:16.614816Z"
    },
    "id": "2903aec0",
    "outputId": "f5c9e25d-4595-4e50-b121-0b4e2b7bbbf8",
    "papermill": {
     "duration": 0.057244,
     "end_time": "2022-01-13T10:52:20.143904",
     "exception": false,
     "start_time": "2022-01-13T10:52:20.086660",
     "status": "completed"
    },
    "tags": []
   },
   "outputs": [
    {
     "data": {
      "text/plain": [
       "array([[66,  2],\n",
       "       [ 8, 24]])"
      ]
     },
     "execution_count": 25,
     "metadata": {},
     "output_type": "execute_result"
    }
   ],
   "source": [
    "from sklearn import metrics\n",
    "from sklearn.metrics import confusion_matrix\n",
    "cnf_matrix = metrics.confusion_matrix(y_test, y_predicted)\n",
    "cnf_matrix"
   ]
  },
  {
   "cell_type": "code",
   "execution_count": 26,
   "id": "8bb37383",
   "metadata": {
    "colab": {
     "base_uri": "https://localhost:8080/",
     "height": 405
    },
    "execution": {
     "iopub.execute_input": "2022-01-13T10:52:20.262087Z",
     "iopub.status.busy": "2022-01-13T10:52:20.260541Z",
     "iopub.status.idle": "2022-01-13T10:52:20.505029Z",
     "shell.execute_reply": "2022-01-13T10:52:20.504203Z",
     "shell.execute_reply.started": "2022-01-13T10:46:16.626986Z"
    },
    "id": "8bb37383",
    "outputId": "924d563c-9627-439d-eed5-86ab9ed20d34",
    "papermill": {
     "duration": 0.316192,
     "end_time": "2022-01-13T10:52:20.505180",
     "exception": false,
     "start_time": "2022-01-13T10:52:20.188988",
     "status": "completed"
    },
    "tags": []
   },
   "outputs": [
    {
     "data": {
      "text/plain": [
       "Text(51.0, 0.5, 'Actual label')"
      ]
     },
     "execution_count": 26,
     "metadata": {},
     "output_type": "execute_result"
    },
    {
     "data": {
      "image/png": "[encoded data removed]",
      "text/plain": [
       "<Figure size 576x432 with 2 Axes>"
      ]
     },
     "metadata": {},
     "output_type": "display_data"
    }
   ],
   "source": [
    "plt.figure(figsize = (8,6))\n",
    "sns.heatmap(cnf_matrix, annot=True,cmap='Oranges')\n",
    "plt.xlabel('Predicted label')\n",
    "plt.ylabel('Actual label')"
   ]
  },
  {
   "cell_type": "markdown",
   "id": "c9ef2b90",
   "metadata": {
    "id": "c9ef2b90",
    "papermill": {
     "duration": 0.045423,
     "end_time": "2022-01-13T10:52:20.596670",
     "exception": false,
     "start_time": "2022-01-13T10:52:20.551247",
     "status": "completed"
    },
    "tags": []
   },
   "source": [
    "#### True Negatives(TN) = 66, True Positives(TP) = 23, False Negatives(FN) = 9, False Positives(FP) = 2"
   ]
  },
  {
   "cell_type": "markdown",
   "id": "fd4d7be9",
   "metadata": {
    "id": "fd4d7be9",
    "papermill": {
     "duration": 0.045507,
     "end_time": "2022-01-13T10:52:20.688376",
     "exception": false,
     "start_time": "2022-01-13T10:52:20.642869",
     "status": "completed"
    },
    "tags": []
   },
   "source": [
    "## 12.2 Classification Accuracy"
   ]
  },
  {
   "cell_type": "markdown",
   "id": "32ff915c",
   "metadata": {
    "id": "32ff915c",
    "papermill": {
     "duration": 0.049036,
     "end_time": "2022-01-13T10:52:20.783953",
     "exception": false,
     "start_time": "2022-01-13T10:52:20.734917",
     "status": "completed"
    },
    "tags": []
   },
   "source": [
    "> ##### It can be defined as 'number of items in a class labeled correctly out of all items in that class'.\n",
    "> ##### The formula for Classification accuracy is (TP+TN)/(TP+TN+FP+FN)"
   ]
  },
  {
   "cell_type": "code",
   "execution_count": 27,
   "id": "cdba9c78",
   "metadata": {
    "colab": {
     "base_uri": "https://localhost:8080/"
    },
    "execution": {
     "iopub.execute_input": "2022-01-13T10:52:20.879613Z",
     "iopub.status.busy": "2022-01-13T10:52:20.878937Z",
     "iopub.status.idle": "2022-01-13T10:52:20.885421Z",
     "shell.execute_reply": "2022-01-13T10:52:20.884366Z",
     "shell.execute_reply.started": "2022-01-13T10:46:16.978324Z"
    },
    "id": "cdba9c78",
    "outputId": "017a98df-8693-4b9e-929c-fb8e43913efd",
    "papermill": {
     "duration": 0.055389,
     "end_time": "2022-01-13T10:52:20.885641",
     "exception": false,
     "start_time": "2022-01-13T10:52:20.830252",
     "status": "completed"
    },
    "tags": []
   },
   "outputs": [
    {
     "name": "stdout",
     "output_type": "stream",
     "text": [
      "The percentage of correct predictions for the test data:  90.0\n"
     ]
    }
   ],
   "source": [
    "#Import Library for Accuracy Score\n",
    "from sklearn.metrics import accuracy_score\n",
    "\n",
    "# Calculate Model accuracy by comparing y_test and y_pred\n",
    "accuracy = metrics.accuracy_score(y_test, y_predicted)\n",
    "accuracy_percentage = accuracy * 100\n",
    "print('The percentage of correct predictions for the test data: ', accuracy_percentage)"
   ]
  },
  {
   "cell_type": "markdown",
   "id": "9fabebfa",
   "metadata": {
    "id": "9fabebfa",
    "papermill": {
     "duration": 0.046238,
     "end_time": "2022-01-13T10:52:20.979874",
     "exception": false,
     "start_time": "2022-01-13T10:52:20.933636",
     "status": "completed"
    },
    "tags": []
   },
   "source": [
    "#### When we have a class imbalance, accuracy can become an unreliable metric for measuring our performance. Hence we need other metrics."
   ]
  },
  {
   "cell_type": "markdown",
   "id": "ee3882d2",
   "metadata": {
    "id": "ee3882d2",
    "papermill": {
     "duration": 0.045491,
     "end_time": "2022-01-13T10:52:21.070997",
     "exception": false,
     "start_time": "2022-01-13T10:52:21.025506",
     "status": "completed"
    },
    "tags": []
   },
   "source": [
    "## 12.3 Recall Score"
   ]
  },
  {
   "cell_type": "markdown",
   "id": "6c7aaad8",
   "metadata": {
    "id": "6c7aaad8",
    "papermill": {
     "duration": 0.045989,
     "end_time": "2022-01-13T10:52:21.162858",
     "exception": false,
     "start_time": "2022-01-13T10:52:21.116869",
     "status": "completed"
    },
    "tags": []
   },
   "source": [
    "> ##### It can be defined as 'Out of all the items that are truly positive, how many were correctly classified as positive'.\n",
    "> ##### *r simply, how many positive items were 'recalled' from the dataset.\n",
    "> ##### The formula for Recall Score is TP/(TP+FN)."
   ]
  },
  {
   "cell_type": "code",
   "execution_count": 28,
   "id": "d50c938c",
   "metadata": {
    "colab": {
     "base_uri": "https://localhost:8080/"
    },
    "execution": {
     "iopub.execute_input": "2022-01-13T10:52:21.260925Z",
     "iopub.status.busy": "2022-01-13T10:52:21.259864Z",
     "iopub.status.idle": "2022-01-13T10:52:21.264030Z",
     "shell.execute_reply": "2022-01-13T10:52:21.264514Z",
     "shell.execute_reply.started": "2022-01-13T10:46:16.992544Z"
    },
    "id": "d50c938c",
    "outputId": "d43a78c4-fb93-4ee6-ba8e-fccb414efb1b",
    "papermill": {
     "duration": 0.056252,
     "end_time": "2022-01-13T10:52:21.264713",
     "exception": false,
     "start_time": "2022-01-13T10:52:21.208461",
     "status": "completed"
    },
    "tags": []
   },
   "outputs": [
    {
     "name": "stdout",
     "output_type": "stream",
     "text": [
      "Recall score:  0.75\n"
     ]
    }
   ],
   "source": [
    "from sklearn.metrics import recall_score\n",
    "recall = metrics.recall_score(y_test,y_predicted).round(2)\n",
    "print('Recall score: ', recall)"
   ]
  },
  {
   "cell_type": "markdown",
   "id": "c71c56e4",
   "metadata": {
    "id": "c71c56e4",
    "papermill": {
     "duration": 0.046123,
     "end_time": "2022-01-13T10:52:21.357144",
     "exception": false,
     "start_time": "2022-01-13T10:52:21.311021",
     "status": "completed"
    },
    "tags": []
   },
   "source": [
    "## 12.4 Precision Score"
   ]
  },
  {
   "cell_type": "markdown",
   "id": "081c0900",
   "metadata": {
    "id": "081c0900",
    "papermill": {
     "duration": 0.046316,
     "end_time": "2022-01-13T10:52:21.449728",
     "exception": false,
     "start_time": "2022-01-13T10:52:21.403412",
     "status": "completed"
    },
    "tags": []
   },
   "source": [
    "> ##### It can be defined as 'Out of all the items labeled as positive, how many truly belong to the positive class'.\n",
    "> ##### The formula for Precision Score is TP/(TP+FP)"
   ]
  },
  {
   "cell_type": "code",
   "execution_count": 29,
   "id": "e13478e8",
   "metadata": {
    "colab": {
     "base_uri": "https://localhost:8080/"
    },
    "execution": {
     "iopub.execute_input": "2022-01-13T10:52:21.548338Z",
     "iopub.status.busy": "2022-01-13T10:52:21.547594Z",
     "iopub.status.idle": "2022-01-13T10:52:21.554263Z",
     "shell.execute_reply": "2022-01-13T10:52:21.554807Z",
     "shell.execute_reply.started": "2022-01-13T10:46:17.007213Z"
    },
    "id": "e13478e8",
    "outputId": "20d39d07-dcce-4867-ad15-880e0371408f",
    "papermill": {
     "duration": 0.05811,
     "end_time": "2022-01-13T10:52:21.554978",
     "exception": false,
     "start_time": "2022-01-13T10:52:21.496868",
     "status": "completed"
    },
    "tags": []
   },
   "outputs": [
    {
     "name": "stdout",
     "output_type": "stream",
     "text": [
      "Precision Score:  0.92\n"
     ]
    }
   ],
   "source": [
    "from sklearn.metrics import precision_score\n",
    "precision = metrics.precision_score(y_test,y_predicted).round(2)\n",
    "print('Precision Score: ', precision)"
   ]
  },
  {
   "cell_type": "markdown",
   "id": "da973b63",
   "metadata": {
    "id": "da973b63",
    "papermill": {
     "duration": 0.046487,
     "end_time": "2022-01-13T10:52:21.647827",
     "exception": false,
     "start_time": "2022-01-13T10:52:21.601340",
     "status": "completed"
    },
    "tags": []
   },
   "source": [
    "## 12.5 F1 Score"
   ]
  },
  {
   "cell_type": "markdown",
   "id": "ef880d0f",
   "metadata": {
    "id": "ef880d0f",
    "papermill": {
     "duration": 0.047446,
     "end_time": "2022-01-13T10:52:21.742862",
     "exception": false,
     "start_time": "2022-01-13T10:52:21.695416",
     "status": "completed"
    },
    "tags": []
   },
   "source": [
    "> ##### It is defined as the harmonic mean between precision and recall.\n",
    "> ##### An F1 score reaches its best value at 1 and worst value at 0. A low F1 score is an indication of both poor precision and poor recall.\n",
    "> ##### The formula for F1 Score is TP / (TP + 0.5 x (FP + FN))"
   ]
  },
  {
   "cell_type": "code",
   "execution_count": 30,
   "id": "62e436f3",
   "metadata": {
    "colab": {
     "base_uri": "https://localhost:8080/"
    },
    "execution": {
     "iopub.execute_input": "2022-01-13T10:52:21.846876Z",
     "iopub.status.busy": "2022-01-13T10:52:21.845957Z",
     "iopub.status.idle": "2022-01-13T10:52:21.849159Z",
     "shell.execute_reply": "2022-01-13T10:52:21.849641Z",
     "shell.execute_reply.started": "2022-01-13T10:46:17.030640Z"
    },
    "id": "62e436f3",
    "outputId": "228f00e0-8acc-4996-f74d-d2dec669ba58",
    "papermill": {
     "duration": 0.058557,
     "end_time": "2022-01-13T10:52:21.849828",
     "exception": false,
     "start_time": "2022-01-13T10:52:21.791271",
     "status": "completed"
    },
    "tags": []
   },
   "outputs": [
    {
     "name": "stdout",
     "output_type": "stream",
     "text": [
      "F1 score:  0.83\n"
     ]
    }
   ],
   "source": [
    "from sklearn.metrics import f1_score\n",
    "f1_score = metrics.f1_score(y_test,y_predicted).round(2)\n",
    "print('F1 score: ', f1_score)"
   ]
  },
  {
   "cell_type": "markdown",
   "id": "ebd70e6d",
   "metadata": {
    "id": "ebd70e6d",
    "papermill": {
     "duration": 0.046688,
     "end_time": "2022-01-13T10:52:21.943571",
     "exception": false,
     "start_time": "2022-01-13T10:52:21.896883",
     "status": "completed"
    },
    "tags": []
   },
   "source": [
    "## 12.6 Classification Report"
   ]
  },
  {
   "cell_type": "markdown",
   "id": "babcacce",
   "metadata": {
    "id": "babcacce",
    "papermill": {
     "duration": 0.046756,
     "end_time": "2022-01-13T10:52:22.039021",
     "exception": false,
     "start_time": "2022-01-13T10:52:21.992265",
     "status": "completed"
    },
    "tags": []
   },
   "source": [
    "> ##### Finally, using the classification_report, where we can find the values of various metrics of our confusion matrix."
   ]
  },
  {
   "cell_type": "code",
   "execution_count": 31,
   "id": "bcc15597",
   "metadata": {
    "colab": {
     "base_uri": "https://localhost:8080/"
    },
    "execution": {
     "iopub.execute_input": "2022-01-13T10:52:22.139848Z",
     "iopub.status.busy": "2022-01-13T10:52:22.139131Z",
     "iopub.status.idle": "2022-01-13T10:52:22.145932Z",
     "shell.execute_reply": "2022-01-13T10:52:22.146535Z",
     "shell.execute_reply.started": "2022-01-13T10:46:17.042496Z"
    },
    "id": "bcc15597",
    "outputId": "f77c2d19-3c60-4e62-b59e-d8c0f31a027b",
    "papermill": {
     "duration": 0.059975,
     "end_time": "2022-01-13T10:52:22.146836",
     "exception": false,
     "start_time": "2022-01-13T10:52:22.086861",
     "status": "completed"
    },
    "tags": []
   },
   "outputs": [
    {
     "name": "stdout",
     "output_type": "stream",
     "text": [
      "Classification Report: \n",
      "               precision    recall  f1-score   support\n",
      "\n",
      "           0       0.89      0.97      0.93        68\n",
      "           1       0.92      0.75      0.83        32\n",
      "\n",
      "    accuracy                           0.90       100\n",
      "   macro avg       0.91      0.86      0.88       100\n",
      "weighted avg       0.90      0.90      0.90       100\n",
      "\n"
     ]
    }
   ],
   "source": [
    "from sklearn.metrics import classification_report\n",
    "cl_report = metrics.classification_report(y_test,y_predicted)\n",
    "print('Classification Report: \\n', cl_report)"
   ]
  },
  {
   "cell_type": "markdown",
   "id": "sV-uGS7epTlK",
   "metadata": {
    "id": "sV-uGS7epTlK"
   },
   "source": [
    "# 13. AUC ROC Curve"
   ]
  },
  {
   "cell_type": "code",
   "execution_count": 36,
   "id": "pHBHcoUXpSQC",
   "metadata": {
    "colab": {
     "base_uri": "https://localhost:8080/",
     "height": 295
    },
    "id": "pHBHcoUXpSQC",
    "outputId": "2567c3f8-04b5-45a1-d97e-0ecbf953d1e1"
   },
   "outputs": [
    {
     "data": {
      "image/png": "[encoded data removed]",
      "text/plain": [
       "<Figure size 432x288 with 1 Axes>"
      ]
     },
     "metadata": {},
     "output_type": "display_data"
    }
   ],
   "source": [
    "from sklearn.metrics import roc_curve, roc_auc_score\n",
    "import matplotlib.pyplot as plt\n",
    "fpr, tpr, thresh = roc_curve(y_test, model.predict_proba(x_test)[:,1], drop_intermediate=False)\n",
    "plt.xlim([0.0,1.0])\n",
    "plt.xlim([0.0,1.0])\n",
    "plt.title('ROC Curve')\n",
    "plt.xlabel('False Positive Rate')\n",
    "plt.ylabel('True Positive Rate')\n",
    "plt.plot(fpr,tpr,color='red',lw=3)\n",
    "plt.show()"
   ]
  },
  {
   "cell_type": "markdown",
   "id": "07e992f3",
   "metadata": {
    "id": "07e992f3",
    "papermill": {
     "duration": 0.04676,
     "end_time": "2022-01-13T10:52:22.240794",
     "exception": false,
     "start_time": "2022-01-13T10:52:22.194034",
     "status": "completed"
    },
    "tags": []
   },
   "source": [
    "# 14. Conclusion"
   ]
  },
  {
   "cell_type": "markdown",
   "id": "551b1310",
   "metadata": {
    "id": "551b1310",
    "papermill": {
     "duration": 0.046726,
     "end_time": "2022-01-13T10:52:22.334397",
     "exception": false,
     "start_time": "2022-01-13T10:52:22.287671",
     "status": "completed"
    },
    "tags": []
   },
   "source": [
    " #### As we are getting high precision, recall and F1 score, we conclude that the performance of our logistic regression model is good.\n",
    "\n",
    "#### Also, the logistic regression model has an accuracy of 90 percent. For such a basic model, it's really not awful! Of course, the model's performance might be enhanced further by doing further pre-processing, feature selection, and feature extraction. "
   ]
  }
 ],
 "metadata": {
  "colab": {
   "name": "KalyanKhatry_2058924_Classification_Task.ipynb",
   "provenance": []
  },
  "kernelspec": {
   "display_name": "Python 3",
   "language": "python",
   "name": "python3"
  },
  "language_info": {
   "codemirror_mode": {
    "name": "ipython",
    "version": 3
   },
   "file_extension": ".py",
   "mimetype": "text/x-python",
   "name": "python",
   "nbconvert_exporter": "python",
   "pygments_lexer": "ipython3",
   "version": "3.8.8"
  },
  "papermill": {
   "default_parameters": {},
   "duration": 23.326844,
   "end_time": "2022-01-13T10:52:23.187127",
   "environment_variables": {},
   "exception": null,
   "input_path": "__notebook__.ipynb",
   "output_path": "__notebook__.ipynb",
   "parameters": {},
   "start_time": "2022-01-13T10:51:59.860283",
   "version": "2.3.3"
  }
 },
 "nbformat": 4,
 "nbformat_minor": 5
}
